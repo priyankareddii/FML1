{
  "nbformat": 4,
  "nbformat_minor": 0,
  "metadata": {
    "colab": {
      "provenance": [],
      "authorship_tag": "ABX9TyNGdFmf4YJYDWxznSJWctVA",
      "include_colab_link": true
    },
    "kernelspec": {
      "name": "python3",
      "display_name": "Python 3"
    },
    "language_info": {
      "name": "python"
    }
  },
  "cells": [
    {
      "cell_type": "markdown",
      "metadata": {
        "id": "view-in-github",
        "colab_type": "text"
      },
      "source": [
        "<a href=\"https://colab.research.google.com/github/priyankareddii/FML1/blob/main/numpy.ipynb\" target=\"_parent\"><img src=\"https://colab.research.google.com/assets/colab-badge.svg\" alt=\"Open In Colab\"/></a>"
      ]
    },
    {
      "cell_type": "code",
      "execution_count": null,
      "metadata": {
        "id": "kNHOjXGLtcBI"
      },
      "outputs": [],
      "source": []
    },
    {
      "cell_type": "code",
      "execution_count": null,
      "metadata": {
        "id": "TfJ3b6J17aIg"
      },
      "outputs": [],
      "source": [
        "\n"
      ]
    },
    {
      "cell_type": "code",
      "execution_count": null,
      "metadata": {
        "id": "naSbAuDpzYs-"
      },
      "outputs": [],
      "source": []
    },
    {
      "cell_type": "code",
      "execution_count": null,
      "metadata": {
        "id": "tEGzCH16HAR5"
      },
      "outputs": [],
      "source": [
        "import numpy as np"
      ]
    },
    {
      "cell_type": "markdown",
      "source": [
        "# **0-Dimension array**"
      ],
      "metadata": {
        "id": "Z12p19BWHHGr"
      }
    },
    {
      "cell_type": "markdown",
      "source": [
        "**1**"
      ],
      "metadata": {
        "id": "17yaJvvAnQfl"
      }
    },
    {
      "cell_type": "code",
      "source": [
        "a=np.array(200)\n",
        "print(a)"
      ],
      "metadata": {
        "colab": {
          "base_uri": "https://localhost:8080/"
        },
        "id": "XsbIU303HouW",
        "outputId": "b6272c69-a1da-461d-8b39-df985d6d2743"
      },
      "execution_count": null,
      "outputs": [
        {
          "output_type": "stream",
          "name": "stdout",
          "text": [
            "200\n"
          ]
        }
      ]
    },
    {
      "cell_type": "markdown",
      "source": [
        "**2**"
      ],
      "metadata": {
        "id": "ZyPhEsHFnSHd"
      }
    },
    {
      "cell_type": "code",
      "source": [
        "a=np.array(40)\n",
        "print(a)"
      ],
      "metadata": {
        "colab": {
          "base_uri": "https://localhost:8080/"
        },
        "id": "0AeARIM6RIJ5",
        "outputId": "811b408d-6980-45bc-e868-8c0b169786ec"
      },
      "execution_count": null,
      "outputs": [
        {
          "output_type": "stream",
          "name": "stdout",
          "text": [
            "40\n"
          ]
        }
      ]
    },
    {
      "cell_type": "markdown",
      "source": [
        "**3**"
      ],
      "metadata": {
        "id": "hv6q8K0NnUBV"
      }
    },
    {
      "cell_type": "code",
      "source": [
        "a=np.array(450)\n",
        "print(a)"
      ],
      "metadata": {
        "colab": {
          "base_uri": "https://localhost:8080/"
        },
        "id": "qyRAPUfhRoc-",
        "outputId": "485f7d9e-01b7-43e6-b4cb-8dfb17782a52"
      },
      "execution_count": null,
      "outputs": [
        {
          "output_type": "stream",
          "name": "stdout",
          "text": [
            "450\n"
          ]
        }
      ]
    },
    {
      "cell_type": "markdown",
      "source": [
        "**4**"
      ],
      "metadata": {
        "id": "grYbi0rgnWJE"
      }
    },
    {
      "cell_type": "code",
      "source": [
        "a=np.array(560)\n",
        "print(a)"
      ],
      "metadata": {
        "colab": {
          "base_uri": "https://localhost:8080/"
        },
        "id": "-UN8V8obRvZZ",
        "outputId": "c40509ce-565d-4ab0-db5a-70b70f422592"
      },
      "execution_count": null,
      "outputs": [
        {
          "output_type": "stream",
          "name": "stdout",
          "text": [
            "560\n"
          ]
        }
      ]
    },
    {
      "cell_type": "markdown",
      "source": [
        "# **1-Dimension array**\n"
      ],
      "metadata": {
        "id": "z3FQWocSH_wm"
      }
    },
    {
      "cell_type": "markdown",
      "source": [
        "# Collection of 0 elements is form 1-dimension"
      ],
      "metadata": {
        "id": "SBq5i9QsJJ4O"
      }
    },
    {
      "cell_type": "markdown",
      "source": [
        "**1**"
      ],
      "metadata": {
        "id": "moDRV1DZnDBe"
      }
    },
    {
      "cell_type": "code",
      "source": [
        "a=np.array([200,300,400,500])\n",
        "print(a)"
      ],
      "metadata": {
        "colab": {
          "base_uri": "https://localhost:8080/"
        },
        "id": "R3pjDpXYJUFw",
        "outputId": "a2d08670-84ed-40fc-a08d-df4837c706e7"
      },
      "execution_count": null,
      "outputs": [
        {
          "output_type": "stream",
          "name": "stdout",
          "text": [
            "[200 300 400 500]\n"
          ]
        }
      ]
    },
    {
      "cell_type": "markdown",
      "source": [
        "**2**"
      ],
      "metadata": {
        "id": "W8HBCsx8nFfa"
      }
    },
    {
      "cell_type": "code",
      "source": [
        "a=np.array([40,50,60,70])\n",
        "print(a)"
      ],
      "metadata": {
        "colab": {
          "base_uri": "https://localhost:8080/"
        },
        "id": "Ztmn45GtRXUP",
        "outputId": "fdaf19f0-96db-492d-9dde-0a677d5ecce1"
      },
      "execution_count": null,
      "outputs": [
        {
          "output_type": "stream",
          "name": "stdout",
          "text": [
            "[40 50 60 70]\n"
          ]
        }
      ]
    },
    {
      "cell_type": "markdown",
      "source": [
        "**3**"
      ],
      "metadata": {
        "id": "LFv6Zj8OnIoa"
      }
    },
    {
      "cell_type": "code",
      "source": [
        "a=np.array([500,600,700,800])\n",
        "print(a)"
      ],
      "metadata": {
        "colab": {
          "base_uri": "https://localhost:8080/"
        },
        "id": "l8q0KgtXR2Dk",
        "outputId": "2737b294-51ad-4ade-ae67-e4553b730ad0"
      },
      "execution_count": null,
      "outputs": [
        {
          "output_type": "stream",
          "name": "stdout",
          "text": [
            "[500 600 700 800]\n"
          ]
        }
      ]
    },
    {
      "cell_type": "markdown",
      "source": [
        "**4**"
      ],
      "metadata": {
        "id": "JCRHUcvgnJ37"
      }
    },
    {
      "cell_type": "code",
      "source": [
        "a=np.array([150,170,180,190])\n",
        "print(a)"
      ],
      "metadata": {
        "colab": {
          "base_uri": "https://localhost:8080/"
        },
        "id": "jAQpkdIQSA4D",
        "outputId": "fec722bb-65fc-4c37-f3f0-07710b7ee6d8"
      },
      "execution_count": null,
      "outputs": [
        {
          "output_type": "stream",
          "name": "stdout",
          "text": [
            "[150 170 180 190]\n"
          ]
        }
      ]
    },
    {
      "cell_type": "markdown",
      "source": [
        "# **2-Dimension array**\n",
        "\n",
        "# 0 th sublist\n",
        "\n",
        "# 1st sublist"
      ],
      "metadata": {
        "id": "CtSGDvehJknD"
      }
    },
    {
      "cell_type": "markdown",
      "source": [
        "**1**"
      ],
      "metadata": {
        "id": "dNI27tymm6Kn"
      }
    },
    {
      "cell_type": "code",
      "source": [
        "a=np.array([[200,300],[400,500]])\n",
        "print(a)"
      ],
      "metadata": {
        "colab": {
          "base_uri": "https://localhost:8080/"
        },
        "id": "CTFK5_JXR0Pj",
        "outputId": "3f7ac545-9e35-4cf8-cf92-d50d8d392988"
      },
      "execution_count": null,
      "outputs": [
        {
          "output_type": "stream",
          "name": "stdout",
          "text": [
            "[[200 300]\n",
            " [400 500]]\n"
          ]
        }
      ]
    },
    {
      "cell_type": "code",
      "source": [
        "a[1][0]"
      ],
      "metadata": {
        "colab": {
          "base_uri": "https://localhost:8080/"
        },
        "id": "UrfZFs14SYwb",
        "outputId": "ba929685-0d81-4232-9d59-a3834d9c1cf4"
      },
      "execution_count": null,
      "outputs": [
        {
          "output_type": "execute_result",
          "data": {
            "text/plain": [
              "400"
            ]
          },
          "metadata": {},
          "execution_count": 11
        }
      ]
    },
    {
      "cell_type": "code",
      "source": [
        "a[0][1]"
      ],
      "metadata": {
        "colab": {
          "base_uri": "https://localhost:8080/"
        },
        "id": "z_eKXL3cSzMk",
        "outputId": "38757aa0-dd19-4cca-8b76-562acac7e716"
      },
      "execution_count": null,
      "outputs": [
        {
          "output_type": "execute_result",
          "data": {
            "text/plain": [
              "300"
            ]
          },
          "metadata": {},
          "execution_count": 12
        }
      ]
    },
    {
      "cell_type": "markdown",
      "source": [
        "**2**"
      ],
      "metadata": {
        "id": "QgSM2Qrim8A2"
      }
    },
    {
      "cell_type": "code",
      "source": [
        "a=np.array([[600,650],[700,750]])\n",
        "print(a)"
      ],
      "metadata": {
        "colab": {
          "base_uri": "https://localhost:8080/"
        },
        "id": "EXUfMdfnSTso",
        "outputId": "1381ed6e-5aca-4d76-d445-2f774a7c37f4"
      },
      "execution_count": null,
      "outputs": [
        {
          "output_type": "stream",
          "name": "stdout",
          "text": [
            "[[600 650]\n",
            " [700 750]]\n"
          ]
        }
      ]
    },
    {
      "cell_type": "markdown",
      "source": [
        "**3**"
      ],
      "metadata": {
        "id": "22UHq3Mbm-tx"
      }
    },
    {
      "cell_type": "code",
      "source": [
        "a=np.array([[150,160],[170,180]])\n",
        "print(a)"
      ],
      "metadata": {
        "colab": {
          "base_uri": "https://localhost:8080/"
        },
        "id": "Cwd3_6dGSh4M",
        "outputId": "a09cbefc-e323-4f66-abc5-6a0419c1dfdd"
      },
      "execution_count": null,
      "outputs": [
        {
          "output_type": "stream",
          "name": "stdout",
          "text": [
            "[[150 160]\n",
            " [170 180]]\n"
          ]
        }
      ]
    },
    {
      "cell_type": "markdown",
      "source": [
        "**4**"
      ],
      "metadata": {
        "id": "dCpMjL9PnAIZ"
      }
    },
    {
      "cell_type": "code",
      "source": [
        "a=np.array([[40,50],[45,55]])\n",
        "print(a)"
      ],
      "metadata": {
        "colab": {
          "base_uri": "https://localhost:8080/"
        },
        "id": "ARoH4DTpS43c",
        "outputId": "70c5d526-740c-4b2a-ed49-61d1ea702aeb"
      },
      "execution_count": null,
      "outputs": [
        {
          "output_type": "stream",
          "name": "stdout",
          "text": [
            "[[40 50]\n",
            " [45 55]]\n"
          ]
        }
      ]
    },
    {
      "cell_type": "code",
      "source": [
        "a[0][0]"
      ],
      "metadata": {
        "colab": {
          "base_uri": "https://localhost:8080/"
        },
        "id": "euMYiR8cTNz-",
        "outputId": "f137d921-fb3f-46c6-ef1a-ae9eefb40a49"
      },
      "execution_count": null,
      "outputs": [
        {
          "output_type": "execute_result",
          "data": {
            "text/plain": [
              "40"
            ]
          },
          "metadata": {},
          "execution_count": 16
        }
      ]
    },
    {
      "cell_type": "markdown",
      "source": [
        "# **3-Dimension array**\n",
        "\n",
        "# collection of 2-dimensions"
      ],
      "metadata": {
        "id": "MDONusxFS2w2"
      }
    },
    {
      "cell_type": "markdown",
      "source": [
        "**1**"
      ],
      "metadata": {
        "id": "Eb8R9WaFmw-p"
      }
    },
    {
      "cell_type": "code",
      "source": [
        "a=np.array([[[200,300],[400,500]],[[600,700],[800,900]]])\n",
        "print(a)"
      ],
      "metadata": {
        "colab": {
          "base_uri": "https://localhost:8080/"
        },
        "id": "xOsEyFkYTEDg",
        "outputId": "6a20df2d-00ed-42ce-add8-6d69ee355ae8"
      },
      "execution_count": null,
      "outputs": [
        {
          "output_type": "stream",
          "name": "stdout",
          "text": [
            "[[[200 300]\n",
            "  [400 500]]\n",
            "\n",
            " [[600 700]\n",
            "  [800 900]]]\n"
          ]
        }
      ]
    },
    {
      "cell_type": "code",
      "source": [
        "a[0][1][0]"
      ],
      "metadata": {
        "colab": {
          "base_uri": "https://localhost:8080/"
        },
        "id": "vHTN8nnZdbPL",
        "outputId": "7fe3105b-3ef6-4e50-dcbb-d78efd14c161"
      },
      "execution_count": null,
      "outputs": [
        {
          "output_type": "execute_result",
          "data": {
            "text/plain": [
              "400"
            ]
          },
          "metadata": {},
          "execution_count": 18
        }
      ]
    },
    {
      "cell_type": "markdown",
      "source": [
        "**2**"
      ],
      "metadata": {
        "id": "PMdUYpThmyaw"
      }
    },
    {
      "cell_type": "code",
      "source": [
        "a=np.array([[[140,150],[120,130]],[[110,115],[160,170]]])\n",
        "print(a)"
      ],
      "metadata": {
        "colab": {
          "base_uri": "https://localhost:8080/"
        },
        "id": "w0kg2hiCTZWC",
        "outputId": "118d4e80-2606-42c7-c1fd-ea3e78d891a8"
      },
      "execution_count": null,
      "outputs": [
        {
          "output_type": "stream",
          "name": "stdout",
          "text": [
            "[[[140 150]\n",
            "  [120 130]]\n",
            "\n",
            " [[110 115]\n",
            "  [160 170]]]\n"
          ]
        }
      ]
    },
    {
      "cell_type": "markdown",
      "source": [
        "**3**"
      ],
      "metadata": {
        "id": "VZuMKtYpm0yZ"
      }
    },
    {
      "cell_type": "code",
      "source": [
        "a=np.array([[[11,12],[13,14]],[[15,16],[17,18]]])\n",
        "print(a)"
      ],
      "metadata": {
        "colab": {
          "base_uri": "https://localhost:8080/"
        },
        "id": "MLBbDBCWT6S6",
        "outputId": "1775ba70-6d95-4120-f239-701db396ffab"
      },
      "execution_count": null,
      "outputs": [
        {
          "output_type": "stream",
          "name": "stdout",
          "text": [
            "[[[11 12]\n",
            "  [13 14]]\n",
            "\n",
            " [[15 16]\n",
            "  [17 18]]]\n"
          ]
        }
      ]
    },
    {
      "cell_type": "markdown",
      "source": [
        "**4**"
      ],
      "metadata": {
        "id": "xioiNU4cm2zP"
      }
    },
    {
      "cell_type": "code",
      "source": [
        "a=np.array([[[111,222],[333,444]],[[555,666],[777,888]]])\n",
        "print(a)"
      ],
      "metadata": {
        "colab": {
          "base_uri": "https://localhost:8080/"
        },
        "id": "LTNhKiO0UUDe",
        "outputId": "c2ce4807-671b-472e-8ab7-360c9871dbbb"
      },
      "execution_count": null,
      "outputs": [
        {
          "output_type": "stream",
          "name": "stdout",
          "text": [
            "[[[111 222]\n",
            "  [333 444]]\n",
            "\n",
            " [[555 666]\n",
            "  [777 888]]]\n"
          ]
        }
      ]
    },
    {
      "cell_type": "code",
      "source": [
        "a[0][0][0]"
      ],
      "metadata": {
        "colab": {
          "base_uri": "https://localhost:8080/"
        },
        "id": "aiD0Q3KSUv4T",
        "outputId": "bb530f3a-a0c1-4340-dc06-b55e5dbc2e0e"
      },
      "execution_count": null,
      "outputs": [
        {
          "output_type": "execute_result",
          "data": {
            "text/plain": [
              "111"
            ]
          },
          "metadata": {},
          "execution_count": 22
        }
      ]
    },
    {
      "cell_type": "code",
      "source": [
        "a[0][1][1]"
      ],
      "metadata": {
        "colab": {
          "base_uri": "https://localhost:8080/"
        },
        "id": "cK1Uvwe0VSve",
        "outputId": "3aa42e81-3b13-4b1f-b4ed-7a1910a84630"
      },
      "execution_count": null,
      "outputs": [
        {
          "output_type": "execute_result",
          "data": {
            "text/plain": [
              "444"
            ]
          },
          "metadata": {},
          "execution_count": 23
        }
      ]
    },
    {
      "cell_type": "markdown",
      "source": [
        "# **asarray()**"
      ],
      "metadata": {
        "id": "YGXvLJyJUCrV"
      }
    },
    {
      "cell_type": "markdown",
      "source": [
        "**1**"
      ],
      "metadata": {
        "id": "FzmCHcOjmjMz"
      }
    },
    {
      "cell_type": "code",
      "source": [
        "a=[200,300,400,500]\n",
        "b=np.array(a,dtype=float)\n",
        "print(b)"
      ],
      "metadata": {
        "colab": {
          "base_uri": "https://localhost:8080/"
        },
        "id": "R9K1dOOgUIPZ",
        "outputId": "3e17dda5-3752-4852-b7d9-40f42cbaf6a8"
      },
      "execution_count": null,
      "outputs": [
        {
          "output_type": "stream",
          "name": "stdout",
          "text": [
            "[200. 300. 400. 500.]\n"
          ]
        }
      ]
    },
    {
      "cell_type": "markdown",
      "source": [
        "**row major order(\"C\")**\n",
        "\n",
        "**column major order(\"F\")**\n",
        "\n",
        "**occured in 2-dimension**"
      ],
      "metadata": {
        "id": "GMLz8B3sU2QJ"
      }
    },
    {
      "cell_type": "code",
      "source": [
        "a=[[200,300],[400,500]]\n",
        "b=np.asarray(a,order=\"C\")\n",
        "print(b)"
      ],
      "metadata": {
        "colab": {
          "base_uri": "https://localhost:8080/"
        },
        "id": "DNVNDyfZVQ1B",
        "outputId": "a8f5497f-fcd0-4845-f87e-50945d6005a2"
      },
      "execution_count": null,
      "outputs": [
        {
          "output_type": "stream",
          "name": "stdout",
          "text": [
            "[[200 300]\n",
            " [400 500]]\n"
          ]
        }
      ]
    },
    {
      "cell_type": "code",
      "source": [
        "for i in np.nditer(b):\n",
        "  print(i)"
      ],
      "metadata": {
        "colab": {
          "base_uri": "https://localhost:8080/"
        },
        "id": "GTFrz4TbV-_G",
        "outputId": "35da0be6-797b-4546-f957-87fef66d86c5"
      },
      "execution_count": null,
      "outputs": [
        {
          "output_type": "stream",
          "name": "stdout",
          "text": [
            "200\n",
            "300\n",
            "400\n",
            "500\n"
          ]
        }
      ]
    },
    {
      "cell_type": "code",
      "source": [
        "a=[[200,300],[400,500]]\n",
        "b=np.asarray(a,order=\"F\")\n",
        "print(b)"
      ],
      "metadata": {
        "colab": {
          "base_uri": "https://localhost:8080/"
        },
        "id": "nWZQLoC3WvEm",
        "outputId": "6889a298-cc12-4100-fe18-dde41209b366"
      },
      "execution_count": null,
      "outputs": [
        {
          "output_type": "stream",
          "name": "stdout",
          "text": [
            "[[200 300]\n",
            " [400 500]]\n"
          ]
        }
      ]
    },
    {
      "cell_type": "code",
      "source": [
        "for i in np.nditer(b):\n",
        "  print(i)"
      ],
      "metadata": {
        "colab": {
          "base_uri": "https://localhost:8080/"
        },
        "id": "9IIn23JlXPOf",
        "outputId": "dba9795a-1840-4f55-b7c2-e040ad91f9b8"
      },
      "execution_count": null,
      "outputs": [
        {
          "output_type": "stream",
          "name": "stdout",
          "text": [
            "200\n",
            "400\n",
            "300\n",
            "500\n"
          ]
        }
      ]
    },
    {
      "cell_type": "markdown",
      "source": [
        "**2**"
      ],
      "metadata": {
        "id": "Tq8ObaGUmlbP"
      }
    },
    {
      "cell_type": "code",
      "source": [
        "a=[250,350,450,550]\n",
        "b=np.asarray(a,dtype=float)\n",
        "print(b)"
      ],
      "metadata": {
        "colab": {
          "base_uri": "https://localhost:8080/"
        },
        "id": "Z9jdx5Z5a0KI",
        "outputId": "84ffcb90-99b0-4265-ef68-c74f7e52f5e9"
      },
      "execution_count": null,
      "outputs": [
        {
          "output_type": "stream",
          "name": "stdout",
          "text": [
            "[250. 350. 450. 550.]\n"
          ]
        }
      ]
    },
    {
      "cell_type": "code",
      "source": [
        "a=[[250,350],[450,550]]\n",
        "b=np.asarray(a,order=\"C\")\n",
        "print(b)"
      ],
      "metadata": {
        "colab": {
          "base_uri": "https://localhost:8080/"
        },
        "id": "d9JbKqXKbeoo",
        "outputId": "edc58702-c0f5-4d7c-d670-5ec9c976593b"
      },
      "execution_count": null,
      "outputs": [
        {
          "output_type": "stream",
          "name": "stdout",
          "text": [
            "[[250 350]\n",
            " [450 550]]\n"
          ]
        }
      ]
    },
    {
      "cell_type": "code",
      "source": [
        "for i in np.nditer(b):\n",
        "  print(i)"
      ],
      "metadata": {
        "colab": {
          "base_uri": "https://localhost:8080/"
        },
        "id": "Exl9g27Kc3lI",
        "outputId": "ffca3a16-5268-4ac3-ff64-92184d2287b6"
      },
      "execution_count": null,
      "outputs": [
        {
          "output_type": "stream",
          "name": "stdout",
          "text": [
            "250\n",
            "350\n",
            "450\n",
            "550\n"
          ]
        }
      ]
    },
    {
      "cell_type": "code",
      "source": [
        "a=[[250,350],[450,550]]\n",
        "b=np.asarray(a,order=\"F\")\n",
        "print(b)"
      ],
      "metadata": {
        "colab": {
          "base_uri": "https://localhost:8080/"
        },
        "id": "UTa0r9WYdKaK",
        "outputId": "9e3ec4df-05cd-43a4-c86f-2069e3f4b663"
      },
      "execution_count": null,
      "outputs": [
        {
          "output_type": "stream",
          "name": "stdout",
          "text": [
            "[[250 350]\n",
            " [450 550]]\n"
          ]
        }
      ]
    },
    {
      "cell_type": "code",
      "source": [
        "for i in np.nditer(b):\n",
        "  print(i)"
      ],
      "metadata": {
        "colab": {
          "base_uri": "https://localhost:8080/"
        },
        "id": "MYrxuka7djxA",
        "outputId": "811b2b97-abc6-4aaf-a490-edb64e3e0f20"
      },
      "execution_count": null,
      "outputs": [
        {
          "output_type": "stream",
          "name": "stdout",
          "text": [
            "250\n",
            "450\n",
            "350\n",
            "550\n"
          ]
        }
      ]
    },
    {
      "cell_type": "markdown",
      "source": [
        "**3**"
      ],
      "metadata": {
        "id": "HLbjewBomqk5"
      }
    },
    {
      "cell_type": "code",
      "source": [
        "a=[14,15,16,17]\n",
        "b=np.asarray(a,dtype=float)\n",
        "print(b)"
      ],
      "metadata": {
        "colab": {
          "base_uri": "https://localhost:8080/"
        },
        "id": "iEhKOMx3eHiV",
        "outputId": "965b0122-a3a2-4da8-9a8e-c5626a88762b"
      },
      "execution_count": null,
      "outputs": [
        {
          "output_type": "stream",
          "name": "stdout",
          "text": [
            "[14. 15. 16. 17.]\n"
          ]
        }
      ]
    },
    {
      "cell_type": "code",
      "source": [
        "a=[[14,15],[16,17]]\n",
        "b=np.asarray(a,order=\"C\")\n",
        "print(b)"
      ],
      "metadata": {
        "colab": {
          "base_uri": "https://localhost:8080/"
        },
        "id": "eRzQF_j_ekYh",
        "outputId": "eac54afb-1cae-4407-daf3-466827f73a99"
      },
      "execution_count": null,
      "outputs": [
        {
          "output_type": "stream",
          "name": "stdout",
          "text": [
            "[[14 15]\n",
            " [16 17]]\n"
          ]
        }
      ]
    },
    {
      "cell_type": "code",
      "source": [
        "for i in np.nditer(b):\n",
        "  print(i)"
      ],
      "metadata": {
        "colab": {
          "base_uri": "https://localhost:8080/"
        },
        "id": "r3wKZg38ezf4",
        "outputId": "350d9435-9146-47e4-d65d-83b4c29ab466"
      },
      "execution_count": null,
      "outputs": [
        {
          "output_type": "stream",
          "name": "stdout",
          "text": [
            "14\n",
            "15\n",
            "16\n",
            "17\n"
          ]
        }
      ]
    },
    {
      "cell_type": "code",
      "source": [
        "a=[[14,15],[16,17]]\n",
        "b=np.asarray(a,order=\"F\")\n",
        "print(b)"
      ],
      "metadata": {
        "colab": {
          "base_uri": "https://localhost:8080/"
        },
        "id": "Ii0p8ir0e6Yy",
        "outputId": "4fd88ebf-6c5b-4bec-c207-adb7071539c1"
      },
      "execution_count": null,
      "outputs": [
        {
          "output_type": "stream",
          "name": "stdout",
          "text": [
            "[[14 15]\n",
            " [16 17]]\n"
          ]
        }
      ]
    },
    {
      "cell_type": "code",
      "source": [
        "for i in np.nditer(b):\n",
        "  print(i)"
      ],
      "metadata": {
        "colab": {
          "base_uri": "https://localhost:8080/"
        },
        "id": "IusL7xJyfOLJ",
        "outputId": "2209ab07-bd2c-44a3-b4aa-a772c47cd282"
      },
      "execution_count": null,
      "outputs": [
        {
          "output_type": "stream",
          "name": "stdout",
          "text": [
            "14\n",
            "16\n",
            "15\n",
            "17\n"
          ]
        }
      ]
    },
    {
      "cell_type": "markdown",
      "source": [
        "**4**"
      ],
      "metadata": {
        "id": "noZb-vo9mtFU"
      }
    },
    {
      "cell_type": "code",
      "source": [
        "a=[111,222,333,444]\n",
        "b=np.asarray(a,dtype=float)\n",
        "print(b)"
      ],
      "metadata": {
        "colab": {
          "base_uri": "https://localhost:8080/"
        },
        "id": "eBDcF0qffVkJ",
        "outputId": "343e3d8b-c267-4488-bebe-45db52aee8a1"
      },
      "execution_count": null,
      "outputs": [
        {
          "output_type": "stream",
          "name": "stdout",
          "text": [
            "[111. 222. 333. 444.]\n"
          ]
        }
      ]
    },
    {
      "cell_type": "code",
      "source": [
        "a=[[111,222],[333,444]]\n",
        "b=np.asarray(a,order=\"C\")\n",
        "print(b)"
      ],
      "metadata": {
        "colab": {
          "base_uri": "https://localhost:8080/"
        },
        "id": "WpfmRyjdfg5U",
        "outputId": "da6e0be1-57df-4a1d-d4dd-54051c751196"
      },
      "execution_count": null,
      "outputs": [
        {
          "output_type": "stream",
          "name": "stdout",
          "text": [
            "[[111 222]\n",
            " [333 444]]\n"
          ]
        }
      ]
    },
    {
      "cell_type": "code",
      "source": [
        "for i in np.nditer(b):\n",
        "  print(i)"
      ],
      "metadata": {
        "colab": {
          "base_uri": "https://localhost:8080/"
        },
        "id": "jhpDY_1Yf5gZ",
        "outputId": "8c875ce3-b960-4596-a58d-b81906a3de09"
      },
      "execution_count": null,
      "outputs": [
        {
          "output_type": "stream",
          "name": "stdout",
          "text": [
            "111\n",
            "222\n",
            "333\n",
            "444\n"
          ]
        }
      ]
    },
    {
      "cell_type": "code",
      "source": [
        "a=[[111,222],[333,444]]\n",
        "b=np.asarray(a,order=\"F\")\n",
        "print(b)"
      ],
      "metadata": {
        "colab": {
          "base_uri": "https://localhost:8080/"
        },
        "id": "DiJozS1bf__m",
        "outputId": "7b9d83ee-bfde-483b-a7e0-323cd82211ea"
      },
      "execution_count": null,
      "outputs": [
        {
          "output_type": "stream",
          "name": "stdout",
          "text": [
            "[[111 222]\n",
            " [333 444]]\n"
          ]
        }
      ]
    },
    {
      "cell_type": "code",
      "source": [
        "for i in np.nditer(b):\n",
        "  print(i)"
      ],
      "metadata": {
        "colab": {
          "base_uri": "https://localhost:8080/"
        },
        "id": "xpDY3vv8gUwC",
        "outputId": "025d5984-b612-4c5a-bc7d-d40dcb9eff6b"
      },
      "execution_count": null,
      "outputs": [
        {
          "output_type": "stream",
          "name": "stdout",
          "text": [
            "111\n",
            "333\n",
            "222\n",
            "444\n"
          ]
        }
      ]
    },
    {
      "cell_type": "markdown",
      "source": [
        "# **frombuffer()**\n",
        "\n",
        "### **converts the string into buffer**\n",
        "\n",
        "## **using b before the string**"
      ],
      "metadata": {
        "id": "TknCCWSrXlpW"
      }
    },
    {
      "cell_type": "markdown",
      "source": [
        "**1**"
      ],
      "metadata": {
        "id": "wbkjm2cOmRMo"
      }
    },
    {
      "cell_type": "code",
      "source": [
        "a=b\"First Year CSE Students\"\n",
        "np.frombuffer(a,dtype=\"S1\")"
      ],
      "metadata": {
        "colab": {
          "base_uri": "https://localhost:8080/"
        },
        "id": "XPrgu__fX4jr",
        "outputId": "504c7c6c-3cdc-47ad-b152-ec6c6dfba3ba"
      },
      "execution_count": null,
      "outputs": [
        {
          "output_type": "execute_result",
          "data": {
            "text/plain": [
              "array([b'F', b'i', b'r', b's', b't', b' ', b'Y', b'e', b'a', b'r', b' ',\n",
              "       b'C', b'S', b'E', b' ', b'S', b't', b'u', b'd', b'e', b'n', b't',\n",
              "       b's'], dtype='|S1')"
            ]
          },
          "metadata": {},
          "execution_count": 44
        }
      ]
    },
    {
      "cell_type": "code",
      "source": [
        "np.frombuffer(a,dtype=\"S1\",count=15)"
      ],
      "metadata": {
        "colab": {
          "base_uri": "https://localhost:8080/"
        },
        "outputId": "2297cf96-07ec-4a09-9dd4-cac82139144c",
        "id": "f4uOG1OJZKAD"
      },
      "execution_count": null,
      "outputs": [
        {
          "output_type": "execute_result",
          "data": {
            "text/plain": [
              "array([b'F', b'i', b'r', b's', b't', b' ', b'Y', b'e', b'a', b'r', b' ',\n",
              "       b'C', b'S', b'E', b' '], dtype='|S1')"
            ]
          },
          "metadata": {},
          "execution_count": 45
        }
      ]
    },
    {
      "cell_type": "code",
      "source": [
        "np.frombuffer(a,dtype=\"S1\",offset=12)"
      ],
      "metadata": {
        "colab": {
          "base_uri": "https://localhost:8080/"
        },
        "id": "r9kWL9IQaBF3",
        "outputId": "179d26f1-e6f7-49df-b2f3-ded28f2ae248"
      },
      "execution_count": null,
      "outputs": [
        {
          "output_type": "execute_result",
          "data": {
            "text/plain": [
              "array([b'S', b'E', b' ', b'S', b't', b'u', b'd', b'e', b'n', b't', b's'],\n",
              "      dtype='|S1')"
            ]
          },
          "metadata": {},
          "execution_count": 46
        }
      ]
    },
    {
      "cell_type": "code",
      "source": [
        "np.frombuffer(a,dtype=\"S1\",count=3,offset=15)"
      ],
      "metadata": {
        "colab": {
          "base_uri": "https://localhost:8080/"
        },
        "id": "ECDtLsilauzn",
        "outputId": "065971bc-c461-48cc-9a4f-4d110e6326a4"
      },
      "execution_count": null,
      "outputs": [
        {
          "output_type": "execute_result",
          "data": {
            "text/plain": [
              "array([b'S', b't', b'u'], dtype='|S1')"
            ]
          },
          "metadata": {},
          "execution_count": 47
        }
      ]
    },
    {
      "cell_type": "markdown",
      "source": [
        "**2**"
      ],
      "metadata": {
        "id": "3iLrl3swmPgS"
      }
    },
    {
      "cell_type": "code",
      "source": [
        "a=b\"Second Year CSE  Boys\"\n",
        "np.frombuffer(a,dtype=\"S1\")"
      ],
      "metadata": {
        "colab": {
          "base_uri": "https://localhost:8080/"
        },
        "id": "L7ibZFnDgma5",
        "outputId": "2132aa7f-2d1a-428a-cc42-7f6d47c1f642"
      },
      "execution_count": null,
      "outputs": [
        {
          "output_type": "execute_result",
          "data": {
            "text/plain": [
              "array([b'S', b'e', b'c', b'o', b'n', b'd', b' ', b'Y', b'e', b'a', b'r',\n",
              "       b' ', b'I', b'T', b' ', b'B', b'o', b'y', b's'], dtype='|S1')"
            ]
          },
          "metadata": {},
          "execution_count": 48
        }
      ]
    },
    {
      "cell_type": "code",
      "source": [
        "np.frombuffer(a,dtype=\"S1\",count=12)"
      ],
      "metadata": {
        "colab": {
          "base_uri": "https://localhost:8080/"
        },
        "id": "FhJ_yPonhiy-",
        "outputId": "9a21735f-6c04-4291-edc6-97c01340c1fc"
      },
      "execution_count": null,
      "outputs": [
        {
          "output_type": "execute_result",
          "data": {
            "text/plain": [
              "array([b'S', b'e', b'c', b'o', b'n', b'd', b' ', b'Y', b'e', b'a', b'r',\n",
              "       b' '], dtype='|S1')"
            ]
          },
          "metadata": {},
          "execution_count": 49
        }
      ]
    },
    {
      "cell_type": "code",
      "source": [
        "np.frombuffer(a,dtype=\"S1\",offset=15)"
      ],
      "metadata": {
        "colab": {
          "base_uri": "https://localhost:8080/"
        },
        "id": "MV4AYGQ2hwuB",
        "outputId": "11d704d9-4cfb-40bf-971c-6a77fefe7661"
      },
      "execution_count": null,
      "outputs": [
        {
          "output_type": "execute_result",
          "data": {
            "text/plain": [
              "array([b'B', b'o', b'y', b's'], dtype='|S1')"
            ]
          },
          "metadata": {},
          "execution_count": 50
        }
      ]
    },
    {
      "cell_type": "code",
      "source": [
        "np.frombuffer(a,dtype=\"S1\",count=4,offset=12)"
      ],
      "metadata": {
        "colab": {
          "base_uri": "https://localhost:8080/"
        },
        "id": "WhwgvfnAiFGq",
        "outputId": "29d54797-9f68-4700-ead4-98715fcf732d"
      },
      "execution_count": null,
      "outputs": [
        {
          "output_type": "execute_result",
          "data": {
            "text/plain": [
              "array([b'I', b'T', b' ', b'B'], dtype='|S1')"
            ]
          },
          "metadata": {},
          "execution_count": 51
        }
      ]
    },
    {
      "cell_type": "markdown",
      "source": [
        "**3**"
      ],
      "metadata": {
        "id": "7fdK7ob1mTEN"
      }
    },
    {
      "cell_type": "code",
      "source": [
        "a=b\"First Year all Boys\"\n",
        "np.frombuffer(a,dtype=\"S1\")"
      ],
      "metadata": {
        "colab": {
          "base_uri": "https://localhost:8080/"
        },
        "id": "ICxPLhxoiU1w",
        "outputId": "5d50347a-d25e-4afd-afb1-b7872f533266"
      },
      "execution_count": null,
      "outputs": [
        {
          "output_type": "execute_result",
          "data": {
            "text/plain": [
              "array([b'F', b'i', b'r', b's', b't', b' ', b'Y', b'e', b'a', b'r', b' ',\n",
              "       b'a', b'l', b'l', b' ', b'B', b'o', b'y', b's'], dtype='|S1')"
            ]
          },
          "metadata": {},
          "execution_count": 52
        }
      ]
    },
    {
      "cell_type": "code",
      "source": [
        "np.frombuffer(a,dtype=\"S1\",count=6)"
      ],
      "metadata": {
        "colab": {
          "base_uri": "https://localhost:8080/"
        },
        "id": "r-AjSUDwiwlX",
        "outputId": "89e6983e-c79a-40aa-eec2-afc0212a2760"
      },
      "execution_count": null,
      "outputs": [
        {
          "output_type": "execute_result",
          "data": {
            "text/plain": [
              "array([b'F', b'i', b'r', b's', b't', b' '], dtype='|S1')"
            ]
          },
          "metadata": {},
          "execution_count": 53
        }
      ]
    },
    {
      "cell_type": "code",
      "source": [
        "np.frombuffer(a,dtype=\"S1\",offset=8)"
      ],
      "metadata": {
        "colab": {
          "base_uri": "https://localhost:8080/"
        },
        "id": "p94O6UFAi5yA",
        "outputId": "f52a3a4b-058d-4297-ce83-08c2499c3448"
      },
      "execution_count": null,
      "outputs": [
        {
          "output_type": "execute_result",
          "data": {
            "text/plain": [
              "array([b'a', b'r', b' ', b'a', b'l', b'l', b' ', b'B', b'o', b'y', b's'],\n",
              "      dtype='|S1')"
            ]
          },
          "metadata": {},
          "execution_count": 54
        }
      ]
    },
    {
      "cell_type": "code",
      "source": [
        "np.frombuffer(a,dtype=\"S1\",count=2,offset=9)"
      ],
      "metadata": {
        "colab": {
          "base_uri": "https://localhost:8080/"
        },
        "id": "sVIOkOX3jAkm",
        "outputId": "dfac0cde-cf94-424f-f5ee-4c8e4771b5d5"
      },
      "execution_count": null,
      "outputs": [
        {
          "output_type": "execute_result",
          "data": {
            "text/plain": [
              "array([b'r', b' '], dtype='|S1')"
            ]
          },
          "metadata": {},
          "execution_count": 55
        }
      ]
    },
    {
      "cell_type": "markdown",
      "source": [
        "**4**"
      ],
      "metadata": {
        "id": "5mTFUVgImU2w"
      }
    },
    {
      "cell_type": "code",
      "source": [
        "a=b\"Python is very useful Language\"\n",
        "np.frombuffer(a,dtype=\"S1\")"
      ],
      "metadata": {
        "colab": {
          "base_uri": "https://localhost:8080/"
        },
        "id": "2Kct7e7JjM50",
        "outputId": "d2f723ac-b6e1-4016-c177-12e89cc468ca"
      },
      "execution_count": null,
      "outputs": [
        {
          "output_type": "execute_result",
          "data": {
            "text/plain": [
              "array([b'P', b'y', b't', b'h', b'o', b'n', b' ', b'i', b's', b' ', b'v',\n",
              "       b'e', b'r', b'y', b' ', b'u', b's', b'e', b'f', b'u', b'l', b' ',\n",
              "       b'L', b'a', b'n', b'g', b'u', b'a', b'g', b'e'], dtype='|S1')"
            ]
          },
          "metadata": {},
          "execution_count": 56
        }
      ]
    },
    {
      "cell_type": "code",
      "source": [
        "np.frombuffer(a,dtype=\"S1\",count=6)"
      ],
      "metadata": {
        "colab": {
          "base_uri": "https://localhost:8080/"
        },
        "id": "gqUGjBqdjpM_",
        "outputId": "c9a7cff0-29bb-4e98-c32d-3cc0a8635c40"
      },
      "execution_count": null,
      "outputs": [
        {
          "output_type": "execute_result",
          "data": {
            "text/plain": [
              "array([b'P', b'y', b't', b'h', b'o', b'n'], dtype='|S1')"
            ]
          },
          "metadata": {},
          "execution_count": 57
        }
      ]
    },
    {
      "cell_type": "code",
      "source": [
        "np.frombuffer(a,dtype=\"S1\",offset=6)"
      ],
      "metadata": {
        "colab": {
          "base_uri": "https://localhost:8080/"
        },
        "id": "bdHPk92Hj0Ce",
        "outputId": "e032dd1c-4682-484e-9939-aa9f137cba33"
      },
      "execution_count": null,
      "outputs": [
        {
          "output_type": "execute_result",
          "data": {
            "text/plain": [
              "array([b' ', b'i', b's', b' ', b'v', b'e', b'r', b'y', b' ', b'u', b's',\n",
              "       b'e', b'f', b'u', b'l', b' ', b'L', b'a', b'n', b'g', b'u', b'a',\n",
              "       b'g', b'e'], dtype='|S1')"
            ]
          },
          "metadata": {},
          "execution_count": 58
        }
      ]
    },
    {
      "cell_type": "code",
      "source": [
        "np.frombuffer(a,dtype=\"S1\",count=3,offset=8)"
      ],
      "metadata": {
        "colab": {
          "base_uri": "https://localhost:8080/"
        },
        "id": "eLdD7LGsj9Gd",
        "outputId": "96cedf3a-c375-4dea-d0c3-8179da776636"
      },
      "execution_count": null,
      "outputs": [
        {
          "output_type": "execute_result",
          "data": {
            "text/plain": [
              "array([b's', b' ', b'v'], dtype='|S1')"
            ]
          },
          "metadata": {},
          "execution_count": 59
        }
      ]
    },
    {
      "cell_type": "markdown",
      "source": [
        "# **fromiter()**"
      ],
      "metadata": {
        "id": "cIbIXj-pbHqf"
      }
    },
    {
      "cell_type": "markdown",
      "source": [
        "**1**"
      ],
      "metadata": {
        "id": "ERDgbbyel-tt"
      }
    },
    {
      "cell_type": "code",
      "source": [
        "a=[200,300,400,500,600,700]\n",
        "np.fromiter(a,dtype=int,count=3)"
      ],
      "metadata": {
        "colab": {
          "base_uri": "https://localhost:8080/"
        },
        "id": "uO2HrujybWie",
        "outputId": "6d0d47fa-c34b-46c2-e82a-1313774faf25"
      },
      "execution_count": null,
      "outputs": [
        {
          "output_type": "execute_result",
          "data": {
            "text/plain": [
              "array([200, 300, 400])"
            ]
          },
          "metadata": {},
          "execution_count": 60
        }
      ]
    },
    {
      "cell_type": "code",
      "source": [
        "np.fromiter(a,dtype=float,count=3)"
      ],
      "metadata": {
        "colab": {
          "base_uri": "https://localhost:8080/"
        },
        "id": "c104t6r0cUF_",
        "outputId": "3aba9f72-16e4-46eb-88b3-60105b36e130"
      },
      "execution_count": null,
      "outputs": [
        {
          "output_type": "execute_result",
          "data": {
            "text/plain": [
              "array([200., 300., 400.])"
            ]
          },
          "metadata": {},
          "execution_count": 61
        }
      ]
    },
    {
      "cell_type": "code",
      "source": [
        "np.fromiter(a,dtype=\"S1\",count=3)"
      ],
      "metadata": {
        "colab": {
          "base_uri": "https://localhost:8080/"
        },
        "id": "pCl10csfc0Nq",
        "outputId": "7f7d7e95-aeee-4400-f8b6-016cc4dbae34"
      },
      "execution_count": null,
      "outputs": [
        {
          "output_type": "execute_result",
          "data": {
            "text/plain": [
              "array([b'2', b'3', b'4'], dtype='|S1')"
            ]
          },
          "metadata": {},
          "execution_count": 62
        }
      ]
    },
    {
      "cell_type": "markdown",
      "source": [
        "**2**"
      ],
      "metadata": {
        "id": "89JTd6sel-Bj"
      }
    },
    {
      "cell_type": "code",
      "source": [
        "a=[150,250,350,450,550,650,750]\n",
        "np.fromiter(a,dtype=int,count=3)"
      ],
      "metadata": {
        "colab": {
          "base_uri": "https://localhost:8080/"
        },
        "id": "7T7s1QUjkL4T",
        "outputId": "4eb3be90-58da-412a-de59-ff6148b22370"
      },
      "execution_count": null,
      "outputs": [
        {
          "output_type": "execute_result",
          "data": {
            "text/plain": [
              "array([150, 250, 350])"
            ]
          },
          "metadata": {},
          "execution_count": 63
        }
      ]
    },
    {
      "cell_type": "code",
      "source": [
        "np.fromiter(a,dtype=float,count=3)"
      ],
      "metadata": {
        "colab": {
          "base_uri": "https://localhost:8080/"
        },
        "id": "pOjZa_2ckpIQ",
        "outputId": "dd740caa-0e44-48ac-daa2-d309c94e0c04"
      },
      "execution_count": null,
      "outputs": [
        {
          "output_type": "execute_result",
          "data": {
            "text/plain": [
              "array([150., 250., 350.])"
            ]
          },
          "metadata": {},
          "execution_count": 64
        }
      ]
    },
    {
      "cell_type": "code",
      "source": [
        "np.fromiter(a,dtype=\"S1\",count=3)"
      ],
      "metadata": {
        "colab": {
          "base_uri": "https://localhost:8080/"
        },
        "id": "GBdSEQvWkwyJ",
        "outputId": "4598b9bf-d49a-474a-8084-856b079756a3"
      },
      "execution_count": null,
      "outputs": [
        {
          "output_type": "execute_result",
          "data": {
            "text/plain": [
              "array([b'1', b'2', b'3'], dtype='|S1')"
            ]
          },
          "metadata": {},
          "execution_count": 65
        }
      ]
    },
    {
      "cell_type": "markdown",
      "source": [
        "**3**"
      ],
      "metadata": {
        "id": "Y2nkoePqmE0-"
      }
    },
    {
      "cell_type": "code",
      "source": [
        "a=[111,222,333,444,555,666,777]\n",
        "np.fromiter(a,dtype=int,count=5)"
      ],
      "metadata": {
        "colab": {
          "base_uri": "https://localhost:8080/"
        },
        "id": "0bxgjEFulFcU",
        "outputId": "99da08e7-0adb-4216-d3ec-d06fc9776674"
      },
      "execution_count": null,
      "outputs": [
        {
          "output_type": "execute_result",
          "data": {
            "text/plain": [
              "array([111, 222, 333, 444, 555])"
            ]
          },
          "metadata": {},
          "execution_count": 66
        }
      ]
    },
    {
      "cell_type": "code",
      "source": [
        "np.fromiter(a,dtype=float,count=5)"
      ],
      "metadata": {
        "colab": {
          "base_uri": "https://localhost:8080/"
        },
        "id": "Yhs0cQ1elVEE",
        "outputId": "c2ffba10-043e-4aba-c93f-86a0d0f1c8b7"
      },
      "execution_count": null,
      "outputs": [
        {
          "output_type": "execute_result",
          "data": {
            "text/plain": [
              "array([111., 222., 333., 444., 555.])"
            ]
          },
          "metadata": {},
          "execution_count": 67
        }
      ]
    },
    {
      "cell_type": "code",
      "source": [
        "np.fromiter(a,dtype=\"S1\",count=5)"
      ],
      "metadata": {
        "colab": {
          "base_uri": "https://localhost:8080/"
        },
        "id": "86dznoqrlbxw",
        "outputId": "9a97870b-c50a-45bc-a403-50c3d5cb7c52"
      },
      "execution_count": null,
      "outputs": [
        {
          "output_type": "execute_result",
          "data": {
            "text/plain": [
              "array([b'1', b'2', b'3', b'4', b'5'], dtype='|S1')"
            ]
          },
          "metadata": {},
          "execution_count": 68
        }
      ]
    },
    {
      "cell_type": "markdown",
      "source": [
        "**4**"
      ],
      "metadata": {
        "id": "TPlI84u2mGlb"
      }
    },
    {
      "cell_type": "code",
      "source": [
        "a=[121,213,324,435,546,657,768]\n",
        "np.fromiter(a,dtype=int,count=4)"
      ],
      "metadata": {
        "colab": {
          "base_uri": "https://localhost:8080/"
        },
        "id": "FekIKkcclh1X",
        "outputId": "9040d9f7-41f9-4c23-dca5-3785bb5728dc"
      },
      "execution_count": null,
      "outputs": [
        {
          "output_type": "execute_result",
          "data": {
            "text/plain": [
              "array([121, 213, 324, 435])"
            ]
          },
          "metadata": {},
          "execution_count": 69
        }
      ]
    },
    {
      "cell_type": "code",
      "source": [
        "np.fromiter(a,dtype=float,count=4)"
      ],
      "metadata": {
        "colab": {
          "base_uri": "https://localhost:8080/"
        },
        "id": "wh-x4ZWXlvdd",
        "outputId": "87bd5d69-06e1-4d13-c2b6-33dbd1468ef5"
      },
      "execution_count": null,
      "outputs": [
        {
          "output_type": "execute_result",
          "data": {
            "text/plain": [
              "array([121., 213., 324., 435.])"
            ]
          },
          "metadata": {},
          "execution_count": 70
        }
      ]
    },
    {
      "cell_type": "code",
      "source": [
        "np.fromiter(a,dtype=\"S1\",count=4)"
      ],
      "metadata": {
        "colab": {
          "base_uri": "https://localhost:8080/"
        },
        "id": "-kWJ_s9Ml1mh",
        "outputId": "3d5d10e6-c4a6-46cf-8eee-593bf27c1933"
      },
      "execution_count": null,
      "outputs": [
        {
          "output_type": "execute_result",
          "data": {
            "text/plain": [
              "array([b'1', b'2', b'3', b'4'], dtype='|S1')"
            ]
          },
          "metadata": {},
          "execution_count": 71
        }
      ]
    },
    {
      "cell_type": "markdown",
      "source": [
        "# **INITIALIZING ARRAYS**"
      ],
      "metadata": {
        "id": "_KfHe-ZwU7Eb"
      }
    },
    {
      "cell_type": "markdown",
      "source": [
        "After creating arrays,assigning some values."
      ],
      "metadata": {
        "id": "C3P5GLLGa5q9"
      }
    },
    {
      "cell_type": "markdown",
      "source": [
        "# **zeros()**"
      ],
      "metadata": {
        "id": "I35iGOg6Vr4d"
      }
    },
    {
      "cell_type": "code",
      "source": [
        "a=np.zeros(10)\n",
        "print(a)"
      ],
      "metadata": {
        "colab": {
          "base_uri": "https://localhost:8080/"
        },
        "id": "U-u0RmjkVYuZ",
        "outputId": "930bfe90-041c-4d54-eb0f-c73695a48926"
      },
      "execution_count": null,
      "outputs": [
        {
          "output_type": "stream",
          "name": "stdout",
          "text": [
            "[0. 0. 0. 0. 0. 0. 0. 0. 0. 0.]\n"
          ]
        }
      ]
    },
    {
      "cell_type": "code",
      "source": [
        "np.zeros([4,5])"
      ],
      "metadata": {
        "colab": {
          "base_uri": "https://localhost:8080/"
        },
        "id": "DsmxRiQxWBIL",
        "outputId": "fdfa6eee-d9b8-4228-b0e9-7a051aae91bb"
      },
      "execution_count": null,
      "outputs": [
        {
          "output_type": "execute_result",
          "data": {
            "text/plain": [
              "array([[0., 0., 0., 0., 0.],\n",
              "       [0., 0., 0., 0., 0.],\n",
              "       [0., 0., 0., 0., 0.],\n",
              "       [0., 0., 0., 0., 0.]])"
            ]
          },
          "metadata": {},
          "execution_count": 73
        }
      ]
    },
    {
      "cell_type": "code",
      "source": [
        "a=np.zeros([5,4],dtype=int)\n",
        "print(a)"
      ],
      "metadata": {
        "colab": {
          "base_uri": "https://localhost:8080/"
        },
        "id": "cpQu4RJ6WJ-b",
        "outputId": "cfcbbbce-8493-4c7a-d894-201d06bd6c24"
      },
      "execution_count": null,
      "outputs": [
        {
          "output_type": "stream",
          "name": "stdout",
          "text": [
            "[[0 0 0 0]\n",
            " [0 0 0 0]\n",
            " [0 0 0 0]\n",
            " [0 0 0 0]\n",
            " [0 0 0 0]]\n"
          ]
        }
      ]
    },
    {
      "cell_type": "code",
      "source": [
        "a=np.zeros([5,4,4])\n",
        "print(a)"
      ],
      "metadata": {
        "colab": {
          "base_uri": "https://localhost:8080/"
        },
        "id": "TNcsBf91WaGK",
        "outputId": "e5222c82-93e9-4cb0-ebfc-6eb6608f3bee"
      },
      "execution_count": null,
      "outputs": [
        {
          "output_type": "stream",
          "name": "stdout",
          "text": [
            "[[[0. 0. 0. 0.]\n",
            "  [0. 0. 0. 0.]\n",
            "  [0. 0. 0. 0.]\n",
            "  [0. 0. 0. 0.]]\n",
            "\n",
            " [[0. 0. 0. 0.]\n",
            "  [0. 0. 0. 0.]\n",
            "  [0. 0. 0. 0.]\n",
            "  [0. 0. 0. 0.]]\n",
            "\n",
            " [[0. 0. 0. 0.]\n",
            "  [0. 0. 0. 0.]\n",
            "  [0. 0. 0. 0.]\n",
            "  [0. 0. 0. 0.]]\n",
            "\n",
            " [[0. 0. 0. 0.]\n",
            "  [0. 0. 0. 0.]\n",
            "  [0. 0. 0. 0.]\n",
            "  [0. 0. 0. 0.]]\n",
            "\n",
            " [[0. 0. 0. 0.]\n",
            "  [0. 0. 0. 0.]\n",
            "  [0. 0. 0. 0.]\n",
            "  [0. 0. 0. 0.]]]\n"
          ]
        }
      ]
    },
    {
      "cell_type": "markdown",
      "source": [
        "# **full()**"
      ],
      "metadata": {
        "id": "AKABnd2AWv8r"
      }
    },
    {
      "cell_type": "code",
      "source": [
        "a=np.full([4,6],4)\n",
        "print(a)"
      ],
      "metadata": {
        "colab": {
          "base_uri": "https://localhost:8080/"
        },
        "id": "osCntTfQWs9L",
        "outputId": "717578bd-abe2-4d6d-90dc-c2a5a6a3b637"
      },
      "execution_count": null,
      "outputs": [
        {
          "output_type": "stream",
          "name": "stdout",
          "text": [
            "[[4 4 4 4 4 4]\n",
            " [4 4 4 4 4 4]\n",
            " [4 4 4 4 4 4]\n",
            " [4 4 4 4 4 4]]\n"
          ]
        }
      ]
    },
    {
      "cell_type": "code",
      "source": [
        "a=np.full([4,4,4],6)\n",
        "print(a)"
      ],
      "metadata": {
        "colab": {
          "base_uri": "https://localhost:8080/"
        },
        "id": "ik6DD4-jXLY1",
        "outputId": "cfeb9a76-9c37-40ec-ac27-4cf6484c05a5"
      },
      "execution_count": null,
      "outputs": [
        {
          "output_type": "stream",
          "name": "stdout",
          "text": [
            "[[[6 6 6 6]\n",
            "  [6 6 6 6]\n",
            "  [6 6 6 6]\n",
            "  [6 6 6 6]]\n",
            "\n",
            " [[6 6 6 6]\n",
            "  [6 6 6 6]\n",
            "  [6 6 6 6]\n",
            "  [6 6 6 6]]\n",
            "\n",
            " [[6 6 6 6]\n",
            "  [6 6 6 6]\n",
            "  [6 6 6 6]\n",
            "  [6 6 6 6]]\n",
            "\n",
            " [[6 6 6 6]\n",
            "  [6 6 6 6]\n",
            "  [6 6 6 6]\n",
            "  [6 6 6 6]]]\n"
          ]
        }
      ]
    },
    {
      "cell_type": "markdown",
      "source": [
        "# **random.rand()**"
      ],
      "metadata": {
        "id": "u-GsZkzKXfXJ"
      }
    },
    {
      "cell_type": "markdown",
      "source": [
        "## Output in between 0 to 1\n",
        "## No use of subscript"
      ],
      "metadata": {
        "id": "2oxg4MuMXoXc"
      }
    },
    {
      "cell_type": "code",
      "source": [
        "a=np.random.rand(5,6)\n",
        "print(a)"
      ],
      "metadata": {
        "colab": {
          "base_uri": "https://localhost:8080/"
        },
        "id": "euWChkSGXkie",
        "outputId": "5a062fba-ab53-4026-f2a1-9ae9bd116b4d"
      },
      "execution_count": null,
      "outputs": [
        {
          "output_type": "stream",
          "name": "stdout",
          "text": [
            "[[1.17196091e-01 4.05087737e-01 7.78700476e-01 4.50814682e-01\n",
            "  2.90696738e-01 6.92612173e-04]\n",
            " [4.37715956e-02 8.50469370e-01 8.55021689e-02 3.00383819e-01\n",
            "  1.60425619e-01 3.80948714e-01]\n",
            " [4.05011289e-02 7.52725581e-01 5.89051804e-02 7.78681875e-01\n",
            "  2.37883703e-01 8.55322923e-01]\n",
            " [3.18891924e-01 3.72320952e-01 4.70199479e-02 1.62793111e-01\n",
            "  1.46502926e-01 1.74754921e-02]\n",
            " [2.60084560e-01 2.26034680e-01 1.81578139e-01 1.58362704e-01\n",
            "  9.97973639e-01 6.43585053e-01]]\n"
          ]
        }
      ]
    },
    {
      "cell_type": "code",
      "source": [
        "a=np.random.rand(4,4,4)\n",
        "print(a)"
      ],
      "metadata": {
        "colab": {
          "base_uri": "https://localhost:8080/"
        },
        "id": "5wR7GTpnYiiq",
        "outputId": "e3398b8a-014c-47c6-bb5c-df390575c534"
      },
      "execution_count": null,
      "outputs": [
        {
          "output_type": "stream",
          "name": "stdout",
          "text": [
            "[[[0.13833117 0.81157459 0.46436453 0.4550295 ]\n",
            "  [0.32042112 0.77560127 0.52308137 0.65949661]\n",
            "  [0.10624679 0.309335   0.98724595 0.36076458]\n",
            "  [0.34174897 0.25235603 0.4727578  0.81133112]]\n",
            "\n",
            " [[0.41115821 0.64287696 0.39255657 0.83470662]\n",
            "  [0.79476067 0.94673395 0.90937976 0.26370304]\n",
            "  [0.61182367 0.49143112 0.70971378 0.54260502]\n",
            "  [0.42997509 0.49227636 0.88675409 0.14754089]]\n",
            "\n",
            " [[0.31846695 0.32440488 0.33494427 0.07576896]\n",
            "  [0.65719106 0.96646484 0.10534891 0.38800339]\n",
            "  [0.08813395 0.41222214 0.97429089 0.49215764]\n",
            "  [0.87175453 0.45479454 0.12568485 0.61084855]]\n",
            "\n",
            " [[0.66138143 0.45328    0.55690628 0.00164041]\n",
            "  [0.39386026 0.88985567 0.51217297 0.52886947]\n",
            "  [0.80573906 0.49410188 0.22914956 0.22226805]\n",
            "  [0.91670173 0.93624879 0.44399008 0.25194074]]]\n"
          ]
        }
      ]
    },
    {
      "cell_type": "markdown",
      "source": [
        "# **ones()**"
      ],
      "metadata": {
        "id": "v72Koq_vZRcX"
      }
    },
    {
      "cell_type": "code",
      "source": [
        "a=np.ones([4,6],dtype=int)\n",
        "print(a)"
      ],
      "metadata": {
        "colab": {
          "base_uri": "https://localhost:8080/"
        },
        "id": "mDigCimHZNvh",
        "outputId": "1a3f72a9-ce88-4be7-f0a9-7d735589e61a"
      },
      "execution_count": null,
      "outputs": [
        {
          "output_type": "stream",
          "name": "stdout",
          "text": [
            "[[1 1 1 1 1 1]\n",
            " [1 1 1 1 1 1]\n",
            " [1 1 1 1 1 1]\n",
            " [1 1 1 1 1 1]]\n"
          ]
        }
      ]
    },
    {
      "cell_type": "code",
      "source": [
        "a=np.ones([4,4,6],dtype=int)\n",
        "print(a)"
      ],
      "metadata": {
        "colab": {
          "base_uri": "https://localhost:8080/"
        },
        "id": "P1Fu2tfBZn-J",
        "outputId": "f4edf01a-5434-44d7-b8b7-ce9bb6a94474"
      },
      "execution_count": null,
      "outputs": [
        {
          "output_type": "stream",
          "name": "stdout",
          "text": [
            "[[[1 1 1 1 1 1]\n",
            "  [1 1 1 1 1 1]\n",
            "  [1 1 1 1 1 1]\n",
            "  [1 1 1 1 1 1]]\n",
            "\n",
            " [[1 1 1 1 1 1]\n",
            "  [1 1 1 1 1 1]\n",
            "  [1 1 1 1 1 1]\n",
            "  [1 1 1 1 1 1]]\n",
            "\n",
            " [[1 1 1 1 1 1]\n",
            "  [1 1 1 1 1 1]\n",
            "  [1 1 1 1 1 1]\n",
            "  [1 1 1 1 1 1]]\n",
            "\n",
            " [[1 1 1 1 1 1]\n",
            "  [1 1 1 1 1 1]\n",
            "  [1 1 1 1 1 1]\n",
            "  [1 1 1 1 1 1]]]\n"
          ]
        }
      ]
    },
    {
      "cell_type": "markdown",
      "source": [
        "# **eye**"
      ],
      "metadata": {
        "id": "ATQL4puaZ7f-"
      }
    },
    {
      "cell_type": "markdown",
      "source": [
        "diagonal elements are 1 remaining are 0  \n",
        "2/2 matrix or 4/4 matrix"
      ],
      "metadata": {
        "id": "vDd60QjMaENQ"
      }
    },
    {
      "cell_type": "code",
      "source": [
        "a=np.eye(5)\n",
        "print(a)"
      ],
      "metadata": {
        "colab": {
          "base_uri": "https://localhost:8080/"
        },
        "id": "mq7eYLbeZ-T5",
        "outputId": "6a53136c-f758-4253-de4b-b51bd9205606"
      },
      "execution_count": null,
      "outputs": [
        {
          "output_type": "stream",
          "name": "stdout",
          "text": [
            "[[1. 0. 0. 0. 0.]\n",
            " [0. 1. 0. 0. 0.]\n",
            " [0. 0. 1. 0. 0.]\n",
            " [0. 0. 0. 1. 0.]\n",
            " [0. 0. 0. 0. 1.]]\n"
          ]
        }
      ]
    },
    {
      "cell_type": "code",
      "source": [
        "a=np.eye(8)\n",
        "print(a)"
      ],
      "metadata": {
        "colab": {
          "base_uri": "https://localhost:8080/"
        },
        "id": "nUVccaKjavFl",
        "outputId": "58d8484a-341d-4537-83b4-d89fc367546a"
      },
      "execution_count": null,
      "outputs": [
        {
          "output_type": "stream",
          "name": "stdout",
          "text": [
            "[[1. 0. 0. 0. 0. 0. 0. 0.]\n",
            " [0. 1. 0. 0. 0. 0. 0. 0.]\n",
            " [0. 0. 1. 0. 0. 0. 0. 0.]\n",
            " [0. 0. 0. 1. 0. 0. 0. 0.]\n",
            " [0. 0. 0. 0. 1. 0. 0. 0.]\n",
            " [0. 0. 0. 0. 0. 1. 0. 0.]\n",
            " [0. 0. 0. 0. 0. 0. 1. 0.]\n",
            " [0. 0. 0. 0. 0. 0. 0. 1.]]\n"
          ]
        }
      ]
    },
    {
      "cell_type": "markdown",
      "source": [
        "# **NUMERICAL RANGE**"
      ],
      "metadata": {
        "id": "zKQ5x89fbDu_"
      }
    },
    {
      "cell_type": "markdown",
      "source": [
        "* arange()\n",
        "* reshape()\n",
        "* linspace()\n",
        "* logspace()\n",
        "\n"
      ],
      "metadata": {
        "id": "s_dEy6XbbRVp"
      }
    },
    {
      "cell_type": "markdown",
      "source": [
        "### values are printed between the given range  \n",
        "### start stop step (difference)"
      ],
      "metadata": {
        "id": "eX1qIzjEbwHe"
      }
    },
    {
      "cell_type": "markdown",
      "source": [
        "# **arange()**"
      ],
      "metadata": {
        "id": "fhwjE-V2cJ65"
      }
    },
    {
      "cell_type": "code",
      "source": [
        "a=np.arange(30,50,2)\n",
        "print(a)"
      ],
      "metadata": {
        "colab": {
          "base_uri": "https://localhost:8080/"
        },
        "id": "5Ly4iDhpcE_Y",
        "outputId": "42d7e69c-ca09-422c-f89b-c9f5b31d7cd8"
      },
      "execution_count": null,
      "outputs": [
        {
          "output_type": "stream",
          "name": "stdout",
          "text": [
            "[30 32 34 36 38 40 42 44 46 48]\n"
          ]
        }
      ]
    },
    {
      "cell_type": "code",
      "source": [
        "a=np.arange(0,105,5,dtype=float)\n",
        "print(a)"
      ],
      "metadata": {
        "colab": {
          "base_uri": "https://localhost:8080/"
        },
        "id": "aPXgd3H5gxBu",
        "outputId": "4491df85-800f-402b-a8a4-802e3d623ab7"
      },
      "execution_count": null,
      "outputs": [
        {
          "output_type": "stream",
          "name": "stdout",
          "text": [
            "[  0.   5.  10.  15.  20.  25.  30.  35.  40.  45.  50.  55.  60.  65.\n",
            "  70.  75.  80.  85.  90.  95. 100.]\n"
          ]
        }
      ]
    },
    {
      "cell_type": "code",
      "source": [
        "a=np.arange(100,1000,100)\n",
        "print(a)"
      ],
      "metadata": {
        "colab": {
          "base_uri": "https://localhost:8080/"
        },
        "id": "GopWuVH_hSBo",
        "outputId": "11ec091d-1d0f-45cb-a2ba-667fe3bf64bc"
      },
      "execution_count": null,
      "outputs": [
        {
          "output_type": "stream",
          "name": "stdout",
          "text": [
            "[100 200 300 400 500 600 700 800 900]\n"
          ]
        }
      ]
    },
    {
      "cell_type": "code",
      "source": [
        "a=np.arange(30,50,2)\n",
        "print(a)"
      ],
      "metadata": {
        "colab": {
          "base_uri": "https://localhost:8080/"
        },
        "id": "tYLR2EvkieT7",
        "outputId": "435b4f23-c802-4f17-ebcf-81070377e556"
      },
      "execution_count": null,
      "outputs": [
        {
          "output_type": "stream",
          "name": "stdout",
          "text": [
            "[30 32 34 36 38 40 42 44 46 48]\n"
          ]
        }
      ]
    },
    {
      "cell_type": "markdown",
      "source": [
        "# **reshape()**"
      ],
      "metadata": {
        "id": "7EUZ2-Rphgqe"
      }
    },
    {
      "cell_type": "markdown",
      "source": [
        "### equal division matrix"
      ],
      "metadata": {
        "id": "IzlYkaafhiJZ"
      }
    },
    {
      "cell_type": "code",
      "source": [
        "a.reshape(5,2)"
      ],
      "metadata": {
        "colab": {
          "base_uri": "https://localhost:8080/"
        },
        "id": "MxgHheLxilPf",
        "outputId": "2d2757b3-a114-41df-ea0b-b41bed49be4d"
      },
      "execution_count": null,
      "outputs": [
        {
          "output_type": "execute_result",
          "data": {
            "text/plain": [
              "array([[30, 32],\n",
              "       [34, 36],\n",
              "       [38, 40],\n",
              "       [42, 44],\n",
              "       [46, 48]])"
            ]
          },
          "metadata": {},
          "execution_count": 88
        }
      ]
    },
    {
      "cell_type": "code",
      "source": [
        "a.reshape(2,5)"
      ],
      "metadata": {
        "colab": {
          "base_uri": "https://localhost:8080/"
        },
        "id": "Wn0b-mffixIH",
        "outputId": "5d161d6a-59f9-4aef-a9ff-a329e646123e"
      },
      "execution_count": null,
      "outputs": [
        {
          "output_type": "execute_result",
          "data": {
            "text/plain": [
              "array([[30, 32, 34, 36, 38],\n",
              "       [40, 42, 44, 46, 48]])"
            ]
          },
          "metadata": {},
          "execution_count": 89
        }
      ]
    },
    {
      "cell_type": "code",
      "source": [
        "a.reshape(1,10)"
      ],
      "metadata": {
        "colab": {
          "base_uri": "https://localhost:8080/"
        },
        "id": "qA8FePhNjAmi",
        "outputId": "07043e4f-5a7b-45e1-a20d-3afaf1993a1f"
      },
      "execution_count": null,
      "outputs": [
        {
          "output_type": "execute_result",
          "data": {
            "text/plain": [
              "array([[30, 32, 34, 36, 38, 40, 42, 44, 46, 48]])"
            ]
          },
          "metadata": {},
          "execution_count": 90
        }
      ]
    },
    {
      "cell_type": "code",
      "source": [
        "a.reshape(10,1)"
      ],
      "metadata": {
        "colab": {
          "base_uri": "https://localhost:8080/"
        },
        "id": "droHhJkwjRkj",
        "outputId": "225e26a7-fad5-46ff-d856-aab1bf733ae9"
      },
      "execution_count": null,
      "outputs": [
        {
          "output_type": "execute_result",
          "data": {
            "text/plain": [
              "array([[30],\n",
              "       [32],\n",
              "       [34],\n",
              "       [36],\n",
              "       [38],\n",
              "       [40],\n",
              "       [42],\n",
              "       [44],\n",
              "       [46],\n",
              "       [48]])"
            ]
          },
          "metadata": {},
          "execution_count": 91
        }
      ]
    },
    {
      "cell_type": "markdown",
      "source": [
        "# **linspace()**"
      ],
      "metadata": {
        "id": "WflhLPGBj5f2"
      }
    },
    {
      "cell_type": "markdown",
      "source": [
        "### last element also considered"
      ],
      "metadata": {
        "id": "8bc6k-rWk29g"
      }
    },
    {
      "cell_type": "code",
      "source": [
        "a=np.linspace(0,100,20,endpoint=False,retstep=True,dtype=int)\n",
        "# equal intervals 20\n",
        "# difference retstep\n",
        "# False means endpoint not considered\n",
        "print(a)"
      ],
      "metadata": {
        "colab": {
          "base_uri": "https://localhost:8080/"
        },
        "id": "XfjT8yDwj-gD",
        "outputId": "0b0c581c-8916-4cdd-f2cc-8b20410dfc98"
      },
      "execution_count": null,
      "outputs": [
        {
          "output_type": "stream",
          "name": "stdout",
          "text": [
            "(array([ 0,  5, 10, 15, 20, 25, 30, 35, 40, 45, 50, 55, 60, 65, 70, 75, 80,\n",
            "       85, 90, 95]), 5.0)\n"
          ]
        }
      ]
    },
    {
      "cell_type": "code",
      "source": [
        "a=np.linspace(10,100,10)\n",
        "print(a)"
      ],
      "metadata": {
        "colab": {
          "base_uri": "https://localhost:8080/"
        },
        "id": "j22bZFGdlK8c",
        "outputId": "0651b845-a435-4236-f3ce-68903bea2915"
      },
      "execution_count": null,
      "outputs": [
        {
          "output_type": "stream",
          "name": "stdout",
          "text": [
            "[ 10.  20.  30.  40.  50.  60.  70.  80.  90. 100.]\n"
          ]
        }
      ]
    },
    {
      "cell_type": "code",
      "source": [
        "a=np.linspace(10,100,10,endpoint=False) # equal intervals 10\n",
        "print(a)"
      ],
      "metadata": {
        "colab": {
          "base_uri": "https://localhost:8080/"
        },
        "id": "wilis5s_lZpy",
        "outputId": "eaaa75b1-e5de-4521-9880-d304a145cf1a"
      },
      "execution_count": null,
      "outputs": [
        {
          "output_type": "stream",
          "name": "stdout",
          "text": [
            "[10. 19. 28. 37. 46. 55. 64. 73. 82. 91.]\n"
          ]
        }
      ]
    },
    {
      "cell_type": "code",
      "source": [
        "a=np.linspace(10,100,10,endpoint=False,retstep=True,dtype=int)     #  equal intervals 10  # difference retstep\n",
        "print(a)"
      ],
      "metadata": {
        "colab": {
          "base_uri": "https://localhost:8080/"
        },
        "id": "TYlTnRoWl2pI",
        "outputId": "62366f0f-1ec3-498c-f310-ca5069ff1e73"
      },
      "execution_count": null,
      "outputs": [
        {
          "output_type": "stream",
          "name": "stdout",
          "text": [
            "(array([10, 19, 28, 37, 46, 55, 64, 73, 82, 91]), 9.0)\n"
          ]
        }
      ]
    },
    {
      "cell_type": "markdown",
      "source": [
        "# **logspace()**"
      ],
      "metadata": {
        "id": "T4nmMlo_nV-r"
      }
    },
    {
      "cell_type": "markdown",
      "source": [
        "### logarithemic values"
      ],
      "metadata": {
        "id": "0Oz_pMRlnalN"
      }
    },
    {
      "cell_type": "code",
      "source": [
        "a=np.logspace(1,10,10,base=2,dtype=int)\n",
        "print(a)"
      ],
      "metadata": {
        "colab": {
          "base_uri": "https://localhost:8080/"
        },
        "id": "hFdDnTF5n6EW",
        "outputId": "7128b918-9638-46fa-d26a-cdf4d4816744"
      },
      "execution_count": null,
      "outputs": [
        {
          "output_type": "stream",
          "name": "stdout",
          "text": [
            "[   2    4    8   16   32   64  128  256  512 1024]\n"
          ]
        }
      ]
    },
    {
      "cell_type": "code",
      "source": [
        "a=np.logspace(1,10,10,dtype=int)\n",
        "print(a)"
      ],
      "metadata": {
        "colab": {
          "base_uri": "https://localhost:8080/"
        },
        "id": "4fMMWHA8ntjo",
        "outputId": "25c0b562-8831-4653-f768-52571a84fee1"
      },
      "execution_count": null,
      "outputs": [
        {
          "output_type": "stream",
          "name": "stdout",
          "text": [
            "[         10         100        1000       10000      100000     1000000\n",
            "    10000000   100000000  1000000000 10000000000]\n"
          ]
        }
      ]
    },
    {
      "cell_type": "markdown",
      "source": [
        "# **ARRAY PROPERTIES**"
      ],
      "metadata": {
        "id": "-K0eudWnofAl"
      }
    },
    {
      "cell_type": "markdown",
      "source": [
        "### SIZE - np.size(array)\n",
        "### SHAPE - np.shape(array)\n",
        "### DTYPE - a.dtype"
      ],
      "metadata": {
        "id": "AstKyRvWouAH"
      }
    },
    {
      "cell_type": "code",
      "source": [
        "a=np.arange(10,100,10)\n",
        "a"
      ],
      "metadata": {
        "colab": {
          "base_uri": "https://localhost:8080/"
        },
        "id": "z6Ro4UfBpPBD",
        "outputId": "c211955c-74d3-42d9-9400-33cdfcd6a60e"
      },
      "execution_count": null,
      "outputs": [
        {
          "output_type": "execute_result",
          "data": {
            "text/plain": [
              "array([10, 20, 30, 40, 50, 60, 70, 80, 90])"
            ]
          },
          "metadata": {},
          "execution_count": 98
        }
      ]
    },
    {
      "cell_type": "code",
      "source": [
        "a=a.reshape(3,3)\n",
        "a"
      ],
      "metadata": {
        "colab": {
          "base_uri": "https://localhost:8080/"
        },
        "id": "jpnIPj7spi-Z",
        "outputId": "017430f5-2498-452e-d6f2-3c54212fe010"
      },
      "execution_count": null,
      "outputs": [
        {
          "output_type": "execute_result",
          "data": {
            "text/plain": [
              "array([[10, 20, 30],\n",
              "       [40, 50, 60],\n",
              "       [70, 80, 90]])"
            ]
          },
          "metadata": {},
          "execution_count": 99
        }
      ]
    },
    {
      "cell_type": "code",
      "source": [
        "np.size(a)"
      ],
      "metadata": {
        "colab": {
          "base_uri": "https://localhost:8080/"
        },
        "id": "97k-0FiApzx3",
        "outputId": "dc215b32-f795-441b-bc61-e801fa36a2e9"
      },
      "execution_count": null,
      "outputs": [
        {
          "output_type": "execute_result",
          "data": {
            "text/plain": [
              "9"
            ]
          },
          "metadata": {},
          "execution_count": 100
        }
      ]
    },
    {
      "cell_type": "code",
      "source": [
        "np.shape(a)"
      ],
      "metadata": {
        "colab": {
          "base_uri": "https://localhost:8080/"
        },
        "id": "gz5AwUrtqCWl",
        "outputId": "86b6eef2-7f1d-4cba-fe83-855ac23749c9"
      },
      "execution_count": null,
      "outputs": [
        {
          "output_type": "execute_result",
          "data": {
            "text/plain": [
              "(3, 3)"
            ]
          },
          "metadata": {},
          "execution_count": 101
        }
      ]
    },
    {
      "cell_type": "code",
      "source": [
        "a.dtype"
      ],
      "metadata": {
        "colab": {
          "base_uri": "https://localhost:8080/"
        },
        "id": "uegYU7ZQqLHr",
        "outputId": "2ac5ccf1-cb4e-4c98-97df-dff1dfdc2711"
      },
      "execution_count": null,
      "outputs": [
        {
          "output_type": "execute_result",
          "data": {
            "text/plain": [
              "dtype('int64')"
            ]
          },
          "metadata": {},
          "execution_count": 102
        }
      ]
    },
    {
      "cell_type": "code",
      "source": [
        "b=np.array([10,20,30],dtype=float)\n",
        "print(b)"
      ],
      "metadata": {
        "colab": {
          "base_uri": "https://localhost:8080/"
        },
        "id": "8tz_obf4qdgm",
        "outputId": "65e87474-f457-49eb-fa67-f69665012f61"
      },
      "execution_count": null,
      "outputs": [
        {
          "output_type": "stream",
          "name": "stdout",
          "text": [
            "[10. 20. 30.]\n"
          ]
        }
      ]
    },
    {
      "cell_type": "code",
      "source": [
        "b.dtype"
      ],
      "metadata": {
        "colab": {
          "base_uri": "https://localhost:8080/"
        },
        "id": "MF7fD8DpqpPZ",
        "outputId": "6b83ecb1-8970-4920-8d49-c5b5609dcdb7"
      },
      "execution_count": null,
      "outputs": [
        {
          "output_type": "execute_result",
          "data": {
            "text/plain": [
              "dtype('float64')"
            ]
          },
          "metadata": {},
          "execution_count": 104
        }
      ]
    },
    {
      "cell_type": "markdown",
      "source": [
        "# **ARRAY OPERATIONS**"
      ],
      "metadata": {
        "id": "A5dJeIqdqvc0"
      }
    },
    {
      "cell_type": "markdown",
      "source": [
        "* ### Accessing the elements\n",
        "* ### Slicing - Means extracting some portion of data  "
      ],
      "metadata": {
        "id": "Tv0d85nbq6kg"
      }
    },
    {
      "cell_type": "markdown",
      "source": [
        "### Accessing and slicing Operations\n",
        "concatenate()\n",
        "\n",
        "copy()\n",
        "\n",
        "stack()\n",
        "\n",
        "view\n",
        "\n",
        "vstack()\n",
        "\n",
        "sort()\n",
        "\n",
        "dstack()\n",
        "\n",
        "reshape()\n",
        "\n",
        "hstack()\n",
        "\n",
        "append()\n",
        "\n",
        "split()\n",
        "\n",
        "insert()\n",
        "\n",
        "where()\n",
        "\n",
        "delete()\n",
        "\n",
        "searchsorted()"
      ],
      "metadata": {
        "id": "VVTa8PFerpor"
      }
    },
    {
      "cell_type": "markdown",
      "source": [
        "### **Accessing and Slicing Operations**"
      ],
      "metadata": {
        "id": "R7_Zhic2sgVO"
      }
    },
    {
      "cell_type": "code",
      "source": [
        "a=np.array([[234,387,465,834,964,201],[543,500,823,645,823,923]])\n",
        "print(a)"
      ],
      "metadata": {
        "colab": {
          "base_uri": "https://localhost:8080/"
        },
        "id": "zomHYGTVs6VR",
        "outputId": "fa76cf6a-2701-4f74-fa07-c8a8cd3c214b"
      },
      "execution_count": null,
      "outputs": [
        {
          "output_type": "stream",
          "name": "stdout",
          "text": [
            "[[234 387 465 834 964 201]\n",
            " [543 500 823 645 823 923]]\n"
          ]
        }
      ]
    },
    {
      "cell_type": "code",
      "source": [
        "a[0]"
      ],
      "metadata": {
        "colab": {
          "base_uri": "https://localhost:8080/"
        },
        "id": "aU1iV-UntQzt",
        "outputId": "c2ede27a-95ac-4d1d-c681-60d81135f3d0"
      },
      "execution_count": null,
      "outputs": [
        {
          "output_type": "execute_result",
          "data": {
            "text/plain": [
              "array([234, 387, 465, 834, 964, 201])"
            ]
          },
          "metadata": {},
          "execution_count": 106
        }
      ]
    },
    {
      "cell_type": "code",
      "source": [
        "a[1]"
      ],
      "metadata": {
        "colab": {
          "base_uri": "https://localhost:8080/"
        },
        "id": "TTP4o9zgtSyF",
        "outputId": "3bb5e88b-b4a2-4289-ebe5-afa59aaf9a17"
      },
      "execution_count": null,
      "outputs": [
        {
          "output_type": "execute_result",
          "data": {
            "text/plain": [
              "array([543, 500, 823, 645, 823, 923])"
            ]
          },
          "metadata": {},
          "execution_count": 107
        }
      ]
    },
    {
      "cell_type": "code",
      "source": [
        "a[1][1]"
      ],
      "metadata": {
        "colab": {
          "base_uri": "https://localhost:8080/"
        },
        "id": "Lh6nn8f0tUQI",
        "outputId": "d2a8b63f-6c93-4699-db62-973d498636fc"
      },
      "execution_count": null,
      "outputs": [
        {
          "output_type": "execute_result",
          "data": {
            "text/plain": [
              "500"
            ]
          },
          "metadata": {},
          "execution_count": 108
        }
      ]
    },
    {
      "cell_type": "code",
      "source": [
        "a[1][4]"
      ],
      "metadata": {
        "colab": {
          "base_uri": "https://localhost:8080/"
        },
        "id": "YMZjch1gtYi9",
        "outputId": "dc7235f3-377d-4a6b-d881-3f6941f99a23"
      },
      "execution_count": null,
      "outputs": [
        {
          "output_type": "execute_result",
          "data": {
            "text/plain": [
              "823"
            ]
          },
          "metadata": {},
          "execution_count": 109
        }
      ]
    },
    {
      "cell_type": "code",
      "source": [
        "h=np.arange(10,200,10)\n",
        "print(h)"
      ],
      "metadata": {
        "colab": {
          "base_uri": "https://localhost:8080/"
        },
        "id": "lpl0tTNztb7t",
        "outputId": "714d0cb7-345e-4f36-9559-cce29969faeb"
      },
      "execution_count": null,
      "outputs": [
        {
          "output_type": "stream",
          "name": "stdout",
          "text": [
            "[ 10  20  30  40  50  60  70  80  90 100 110 120 130 140 150 160 170 180\n",
            " 190]\n"
          ]
        }
      ]
    },
    {
      "cell_type": "code",
      "source": [
        "h[5:16] # excluded 16th element"
      ],
      "metadata": {
        "colab": {
          "base_uri": "https://localhost:8080/"
        },
        "id": "7BK2ZX4StjJe",
        "outputId": "f8fd6906-0223-42cd-a07d-193ea0fe0419"
      },
      "execution_count": null,
      "outputs": [
        {
          "output_type": "execute_result",
          "data": {
            "text/plain": [
              "array([ 60,  70,  80,  90, 100, 110, 120, 130, 140, 150, 160])"
            ]
          },
          "metadata": {},
          "execution_count": 111
        }
      ]
    },
    {
      "cell_type": "code",
      "source": [
        "h=np.arange(10,3000,10)\n",
        "print(h)"
      ],
      "metadata": {
        "colab": {
          "base_uri": "https://localhost:8080/"
        },
        "id": "IMkFK3Sft1aP",
        "outputId": "173be538-9b10-4bdc-f742-2b4f0c9c3207"
      },
      "execution_count": null,
      "outputs": [
        {
          "output_type": "stream",
          "name": "stdout",
          "text": [
            "[  10   20   30   40   50   60   70   80   90  100  110  120  130  140\n",
            "  150  160  170  180  190  200  210  220  230  240  250  260  270  280\n",
            "  290  300  310  320  330  340  350  360  370  380  390  400  410  420\n",
            "  430  440  450  460  470  480  490  500  510  520  530  540  550  560\n",
            "  570  580  590  600  610  620  630  640  650  660  670  680  690  700\n",
            "  710  720  730  740  750  760  770  780  790  800  810  820  830  840\n",
            "  850  860  870  880  890  900  910  920  930  940  950  960  970  980\n",
            "  990 1000 1010 1020 1030 1040 1050 1060 1070 1080 1090 1100 1110 1120\n",
            " 1130 1140 1150 1160 1170 1180 1190 1200 1210 1220 1230 1240 1250 1260\n",
            " 1270 1280 1290 1300 1310 1320 1330 1340 1350 1360 1370 1380 1390 1400\n",
            " 1410 1420 1430 1440 1450 1460 1470 1480 1490 1500 1510 1520 1530 1540\n",
            " 1550 1560 1570 1580 1590 1600 1610 1620 1630 1640 1650 1660 1670 1680\n",
            " 1690 1700 1710 1720 1730 1740 1750 1760 1770 1780 1790 1800 1810 1820\n",
            " 1830 1840 1850 1860 1870 1880 1890 1900 1910 1920 1930 1940 1950 1960\n",
            " 1970 1980 1990 2000 2010 2020 2030 2040 2050 2060 2070 2080 2090 2100\n",
            " 2110 2120 2130 2140 2150 2160 2170 2180 2190 2200 2210 2220 2230 2240\n",
            " 2250 2260 2270 2280 2290 2300 2310 2320 2330 2340 2350 2360 2370 2380\n",
            " 2390 2400 2410 2420 2430 2440 2450 2460 2470 2480 2490 2500 2510 2520\n",
            " 2530 2540 2550 2560 2570 2580 2590 2600 2610 2620 2630 2640 2650 2660\n",
            " 2670 2680 2690 2700 2710 2720 2730 2740 2750 2760 2770 2780 2790 2800\n",
            " 2810 2820 2830 2840 2850 2860 2870 2880 2890 2900 2910 2920 2930 2940\n",
            " 2950 2960 2970 2980 2990]\n"
          ]
        }
      ]
    },
    {
      "cell_type": "code",
      "source": [
        "h[123:212]"
      ],
      "metadata": {
        "colab": {
          "base_uri": "https://localhost:8080/"
        },
        "id": "VIe5FLw_t6gY",
        "outputId": "fbf6e0ff-2d89-4e62-a412-dd5385dcaa13"
      },
      "execution_count": null,
      "outputs": [
        {
          "output_type": "execute_result",
          "data": {
            "text/plain": [
              "array([1240, 1250, 1260, 1270, 1280, 1290, 1300, 1310, 1320, 1330, 1340,\n",
              "       1350, 1360, 1370, 1380, 1390, 1400, 1410, 1420, 1430, 1440, 1450,\n",
              "       1460, 1470, 1480, 1490, 1500, 1510, 1520, 1530, 1540, 1550, 1560,\n",
              "       1570, 1580, 1590, 1600, 1610, 1620, 1630, 1640, 1650, 1660, 1670,\n",
              "       1680, 1690, 1700, 1710, 1720, 1730, 1740, 1750, 1760, 1770, 1780,\n",
              "       1790, 1800, 1810, 1820, 1830, 1840, 1850, 1860, 1870, 1880, 1890,\n",
              "       1900, 1910, 1920, 1930, 1940, 1950, 1960, 1970, 1980, 1990, 2000,\n",
              "       2010, 2020, 2030, 2040, 2050, 2060, 2070, 2080, 2090, 2100, 2110,\n",
              "       2120])"
            ]
          },
          "metadata": {},
          "execution_count": 113
        }
      ]
    },
    {
      "cell_type": "markdown",
      "source": [
        "# **copy()**"
      ],
      "metadata": {
        "id": "cytNXFxbuFWs"
      }
    },
    {
      "cell_type": "markdown",
      "source": [
        "### copying one array elements into another array"
      ],
      "metadata": {
        "id": "Sg-3LTRouKOw"
      }
    },
    {
      "cell_type": "code",
      "source": [
        "a=np.array([[234,387,465,834,964,201],[543,500,823,645,823,923]])\n",
        "print(a)"
      ],
      "metadata": {
        "colab": {
          "base_uri": "https://localhost:8080/"
        },
        "id": "UgseTnFCuDfx",
        "outputId": "5bcbfe51-72cd-4090-b382-86c000968391"
      },
      "execution_count": null,
      "outputs": [
        {
          "output_type": "stream",
          "name": "stdout",
          "text": [
            "[[234 387 465 834 964 201]\n",
            " [543 500 823 645 823 923]]\n"
          ]
        }
      ]
    },
    {
      "cell_type": "code",
      "source": [
        "b=np.array([[364,296,975,345,253,785],[241,940,823,764,241,623]])\n",
        "print(b)"
      ],
      "metadata": {
        "colab": {
          "base_uri": "https://localhost:8080/"
        },
        "id": "m3HEQbD7u3ul",
        "outputId": "aa52c66c-2ba9-45fa-bceb-1d21d181ddea"
      },
      "execution_count": null,
      "outputs": [
        {
          "output_type": "stream",
          "name": "stdout",
          "text": [
            "[[364 296 975 345 253 785]\n",
            " [241 940 823 764 241 623]]\n"
          ]
        }
      ]
    },
    {
      "cell_type": "code",
      "source": [
        "b=np.copy(a)\n",
        "print(b)"
      ],
      "metadata": {
        "colab": {
          "base_uri": "https://localhost:8080/"
        },
        "id": "1VhXdWscvLSZ",
        "outputId": "49ed6898-6d6b-4098-d1d8-c6eeae3ba58a"
      },
      "execution_count": null,
      "outputs": [
        {
          "output_type": "stream",
          "name": "stdout",
          "text": [
            "[[234 387 465 834 964 201]\n",
            " [543 500 823 645 823 923]]\n"
          ]
        }
      ]
    },
    {
      "cell_type": "code",
      "source": [
        "a,b"
      ],
      "metadata": {
        "colab": {
          "base_uri": "https://localhost:8080/"
        },
        "id": "O2WeuK4uv43s",
        "outputId": "ad0e49e0-7b2c-4171-c267-f14d1b767f70"
      },
      "execution_count": null,
      "outputs": [
        {
          "output_type": "execute_result",
          "data": {
            "text/plain": [
              "(array([[234, 387, 465, 834, 964, 201],\n",
              "        [543, 500, 823, 645, 823, 923]]),\n",
              " array([[234, 387, 465, 834, 964, 201],\n",
              "        [543, 500, 823, 645, 823, 923]]))"
            ]
          },
          "metadata": {},
          "execution_count": 117
        }
      ]
    },
    {
      "cell_type": "code",
      "source": [
        "b=np.array([[364,296,975,345,253,785],[241,940,823,764,241,623]])\n",
        "print(b)"
      ],
      "metadata": {
        "colab": {
          "base_uri": "https://localhost:8080/"
        },
        "id": "NEGxtNXkv8LH",
        "outputId": "b9fdd09a-473b-4744-cd8e-f3bc7fd8e8f6"
      },
      "execution_count": null,
      "outputs": [
        {
          "output_type": "stream",
          "name": "stdout",
          "text": [
            "[[364 296 975 345 253 785]\n",
            " [241 940 823 764 241 623]]\n"
          ]
        }
      ]
    },
    {
      "cell_type": "code",
      "source": [
        "a=np.copy(b)\n",
        "print(a)"
      ],
      "metadata": {
        "colab": {
          "base_uri": "https://localhost:8080/"
        },
        "id": "46xwAsxPwVjG",
        "outputId": "24721121-2bcb-419c-fee4-2684dc050d6f"
      },
      "execution_count": null,
      "outputs": [
        {
          "output_type": "stream",
          "name": "stdout",
          "text": [
            "[[364 296 975 345 253 785]\n",
            " [241 940 823 764 241 623]]\n"
          ]
        }
      ]
    },
    {
      "cell_type": "code",
      "source": [
        "a,b"
      ],
      "metadata": {
        "colab": {
          "base_uri": "https://localhost:8080/"
        },
        "id": "3CCchM8-waOm",
        "outputId": "22dcc498-0623-4dc4-ad8b-c686d6aa8709"
      },
      "execution_count": null,
      "outputs": [
        {
          "output_type": "execute_result",
          "data": {
            "text/plain": [
              "(array([[364, 296, 975, 345, 253, 785],\n",
              "        [241, 940, 823, 764, 241, 623]]),\n",
              " array([[364, 296, 975, 345, 253, 785],\n",
              "        [241, 940, 823, 764, 241, 623]]))"
            ]
          },
          "metadata": {},
          "execution_count": 120
        }
      ]
    },
    {
      "cell_type": "markdown",
      "source": [
        "# **view**"
      ],
      "metadata": {
        "id": "hAHwwre3wj0T"
      }
    },
    {
      "cell_type": "markdown",
      "source": [
        "### similar to copy but its acts like a reference"
      ],
      "metadata": {
        "id": "a2Duj26wwn_X"
      }
    },
    {
      "cell_type": "code",
      "source": [
        "c=b.view()\n",
        "c"
      ],
      "metadata": {
        "colab": {
          "base_uri": "https://localhost:8080/"
        },
        "id": "CdOe8edXwxTc",
        "outputId": "7046ac2d-c639-4d7c-c300-db6378ff64ce"
      },
      "execution_count": null,
      "outputs": [
        {
          "output_type": "execute_result",
          "data": {
            "text/plain": [
              "array([[364, 296, 975, 345, 253, 785],\n",
              "       [241, 940, 823, 764, 241, 623]])"
            ]
          },
          "metadata": {},
          "execution_count": 121
        }
      ]
    },
    {
      "cell_type": "code",
      "source": [
        "print(\"a=\",a)\n",
        "print(\"b=\",b)\n",
        "print(\"c=\",c)"
      ],
      "metadata": {
        "colab": {
          "base_uri": "https://localhost:8080/"
        },
        "id": "OFJ8FykMw0nH",
        "outputId": "a9d8b103-e171-4bfe-d345-68f9c614596c"
      },
      "execution_count": null,
      "outputs": [
        {
          "output_type": "stream",
          "name": "stdout",
          "text": [
            "a= [[364 296 975 345 253 785]\n",
            " [241 940 823 764 241 623]]\n",
            "b= [[364 296 975 345 253 785]\n",
            " [241 940 823 764 241 623]]\n",
            "c= [[364 296 975 345 253 785]\n",
            " [241 940 823 764 241 623]]\n"
          ]
        }
      ]
    },
    {
      "cell_type": "code",
      "source": [
        "a[1][2]=777\n",
        "a"
      ],
      "metadata": {
        "colab": {
          "base_uri": "https://localhost:8080/"
        },
        "id": "kr9pyCQvxFrJ",
        "outputId": "947c379f-383b-4fae-e3d0-2c6ed7dcc738"
      },
      "execution_count": null,
      "outputs": [
        {
          "output_type": "execute_result",
          "data": {
            "text/plain": [
              "array([[364, 296, 975, 345, 253, 785],\n",
              "       [241, 940, 777, 764, 241, 623]])"
            ]
          },
          "metadata": {},
          "execution_count": 123
        }
      ]
    },
    {
      "cell_type": "code",
      "source": [
        "b"
      ],
      "metadata": {
        "colab": {
          "base_uri": "https://localhost:8080/"
        },
        "id": "d6TTT3SGxMZS",
        "outputId": "66c209b1-4c89-4e63-eb6b-9f555e52ce74"
      },
      "execution_count": null,
      "outputs": [
        {
          "output_type": "execute_result",
          "data": {
            "text/plain": [
              "array([[364, 296, 975, 345, 253, 785],\n",
              "       [241, 940, 823, 764, 241, 623]])"
            ]
          },
          "metadata": {},
          "execution_count": 124
        }
      ]
    },
    {
      "cell_type": "code",
      "source": [
        "c"
      ],
      "metadata": {
        "colab": {
          "base_uri": "https://localhost:8080/"
        },
        "id": "KUW02sIGxPoq",
        "outputId": "df6a216b-6539-4e45-82d1-9440dbbb5755"
      },
      "execution_count": null,
      "outputs": [
        {
          "output_type": "execute_result",
          "data": {
            "text/plain": [
              "array([[364, 296, 975, 345, 253, 785],\n",
              "       [241, 940, 823, 764, 241, 623]])"
            ]
          },
          "metadata": {},
          "execution_count": 125
        }
      ]
    },
    {
      "cell_type": "code",
      "source": [
        "b[0][4]=999\n",
        "b"
      ],
      "metadata": {
        "colab": {
          "base_uri": "https://localhost:8080/"
        },
        "id": "jIfMzntWxUm9",
        "outputId": "2de85137-ca00-4346-812f-b67091e43361"
      },
      "execution_count": null,
      "outputs": [
        {
          "output_type": "execute_result",
          "data": {
            "text/plain": [
              "array([[364, 296, 975, 345, 999, 785],\n",
              "       [241, 940, 823, 764, 241, 623]])"
            ]
          },
          "metadata": {},
          "execution_count": 126
        }
      ]
    },
    {
      "cell_type": "markdown",
      "source": [
        "# **sort()**"
      ],
      "metadata": {
        "id": "z49Kn01wxpcO"
      }
    },
    {
      "cell_type": "markdown",
      "source": [
        "### sorting the elements"
      ],
      "metadata": {
        "id": "rCMXJ2fxxuPW"
      }
    },
    {
      "cell_type": "code",
      "source": [
        "a=np.array([4325,3548,1911,8912,9012,3219,4358,8230])\n",
        "print(a)"
      ],
      "metadata": {
        "id": "mwZA6X09xcsL",
        "colab": {
          "base_uri": "https://localhost:8080/"
        },
        "outputId": "98a4d711-66ef-4d43-99f9-d360dbe84b7a"
      },
      "execution_count": null,
      "outputs": [
        {
          "output_type": "stream",
          "name": "stdout",
          "text": [
            "[4325 3548 1911 8912 9012 3219 4358 8230]\n"
          ]
        }
      ]
    },
    {
      "cell_type": "code",
      "source": [
        "np.sort(a)"
      ],
      "metadata": {
        "id": "SGNAVWA4yJDn",
        "colab": {
          "base_uri": "https://localhost:8080/"
        },
        "outputId": "f975e118-0668-4c79-d4f1-340decfa2729"
      },
      "execution_count": null,
      "outputs": [
        {
          "output_type": "execute_result",
          "data": {
            "text/plain": [
              "array([1911, 3219, 3548, 4325, 4358, 8230, 8912, 9012])"
            ]
          },
          "metadata": {},
          "execution_count": 128
        }
      ]
    },
    {
      "cell_type": "code",
      "source": [
        "a=a.reshape(2,4)\n",
        "print(a)"
      ],
      "metadata": {
        "colab": {
          "base_uri": "https://localhost:8080/"
        },
        "id": "pW7J6aAiHThz",
        "outputId": "99930a6c-bb7d-436f-f4cb-f9a08bbdf1d9"
      },
      "execution_count": null,
      "outputs": [
        {
          "output_type": "stream",
          "name": "stdout",
          "text": [
            "[[4325 3548 1911 8912]\n",
            " [9012 3219 4358 8230]]\n"
          ]
        }
      ]
    },
    {
      "cell_type": "code",
      "source": [
        "a=a.reshape(8,1)\n",
        "print(a)"
      ],
      "metadata": {
        "colab": {
          "base_uri": "https://localhost:8080/"
        },
        "id": "Eu0kXXd3Hi13",
        "outputId": "0704883b-0ec3-4fac-ddb4-73f4aa2ace5c"
      },
      "execution_count": null,
      "outputs": [
        {
          "output_type": "stream",
          "name": "stdout",
          "text": [
            "[[4325]\n",
            " [3548]\n",
            " [1911]\n",
            " [8912]\n",
            " [9012]\n",
            " [3219]\n",
            " [4358]\n",
            " [8230]]\n"
          ]
        }
      ]
    },
    {
      "cell_type": "markdown",
      "source": [
        "BASED ON AXIS MAXIMUM FUNCTIONS ARE"
      ],
      "metadata": {
        "id": "rNPAOnCkIF3A"
      }
    },
    {
      "cell_type": "markdown",
      "source": [
        "# AXIS:0 MEANS COLUMN WISE OPERATIONS\n",
        "# **AXIS:1 MEANS ROW WISE OPERATIONS**"
      ],
      "metadata": {
        "id": "inU72cYCJb88"
      }
    },
    {
      "cell_type": "markdown",
      "source": [],
      "metadata": {
        "id": "ursZ8ZQBrRYD"
      }
    },
    {
      "cell_type": "code",
      "source": [
        "a=np.array([[234,687,465,834.964,909],[543,500,823,645,823,723]])\n",
        "print(a)"
      ],
      "metadata": {
        "colab": {
          "base_uri": "https://localhost:8080/"
        },
        "id": "i5i00IavKLiN",
        "outputId": "610bd314-8895-48b7-a753-c1104d3ee1df"
      },
      "execution_count": null,
      "outputs": [
        {
          "output_type": "stream",
          "name": "stdout",
          "text": [
            "[list([234, 687, 465, 834.964, 909]) list([543, 500, 823, 645, 823, 723])]\n"
          ]
        },
        {
          "output_type": "stream",
          "name": "stderr",
          "text": [
            "<ipython-input-131-0ad2d7daf99f>:1: VisibleDeprecationWarning: Creating an ndarray from ragged nested sequences (which is a list-or-tuple of lists-or-tuples-or ndarrays with different lengths or shapes) is deprecated. If you meant to do this, you must specify 'dtype=object' when creating the ndarray.\n",
            "  a=np.array([[234,687,465,834.964,909],[543,500,823,645,823,723]])\n"
          ]
        }
      ]
    },
    {
      "cell_type": "code",
      "source": [
        "np.sort(a,axis=0)"
      ],
      "metadata": {
        "colab": {
          "base_uri": "https://localhost:8080/"
        },
        "id": "TjrmYFnmLXWk",
        "outputId": "178d33e3-b03e-4dde-d54d-52030f1c4982"
      },
      "execution_count": null,
      "outputs": [
        {
          "output_type": "execute_result",
          "data": {
            "text/plain": [
              "array([list([234, 687, 465, 834.964, 909]),\n",
              "       list([543, 500, 823, 645, 823, 723])], dtype=object)"
            ]
          },
          "metadata": {},
          "execution_count": 132
        }
      ]
    },
    {
      "cell_type": "markdown",
      "source": [
        "# reshape()"
      ],
      "metadata": {
        "id": "uUFfyj7GMgOA"
      }
    },
    {
      "cell_type": "code",
      "source": [
        "a=np.array([22,33,44,55,66,77])\n",
        "a"
      ],
      "metadata": {
        "colab": {
          "base_uri": "https://localhost:8080/"
        },
        "id": "koelKBzcLlqE",
        "outputId": "42abd6cc-ecf1-4de6-eafe-e8252e60b169"
      },
      "execution_count": null,
      "outputs": [
        {
          "output_type": "execute_result",
          "data": {
            "text/plain": [
              "array([22, 33, 44, 55, 66, 77])"
            ]
          },
          "metadata": {},
          "execution_count": 133
        }
      ]
    },
    {
      "cell_type": "code",
      "source": [
        "a.reshape(2,3)"
      ],
      "metadata": {
        "colab": {
          "base_uri": "https://localhost:8080/"
        },
        "id": "lkoLMCqhL-sP",
        "outputId": "6492cffb-7700-48bb-8963-ef4d2e1167d9"
      },
      "execution_count": null,
      "outputs": [
        {
          "output_type": "execute_result",
          "data": {
            "text/plain": [
              "array([[22, 33, 44],\n",
              "       [55, 66, 77]])"
            ]
          },
          "metadata": {},
          "execution_count": 134
        }
      ]
    },
    {
      "cell_type": "code",
      "source": [
        "a=np.arange(2,33,3)\n",
        "a"
      ],
      "metadata": {
        "colab": {
          "base_uri": "https://localhost:8080/"
        },
        "id": "Uk9-3alLNCl0",
        "outputId": "370351c0-f6fe-49b0-e778-2656f38f2c3b"
      },
      "execution_count": null,
      "outputs": [
        {
          "output_type": "execute_result",
          "data": {
            "text/plain": [
              "array([ 2,  5,  8, 11, 14, 17, 20, 23, 26, 29, 32])"
            ]
          },
          "metadata": {},
          "execution_count": 135
        }
      ]
    },
    {
      "cell_type": "markdown",
      "source": [
        "**append()**"
      ],
      "metadata": {
        "id": "cSYG1tRdNbL8"
      }
    },
    {
      "cell_type": "markdown",
      "source": [
        "append is applied between two arrays"
      ],
      "metadata": {
        "id": "p1vrw_MfNhSM"
      }
    },
    {
      "cell_type": "code",
      "source": [
        "a=np.array([20,30,40,50,60])\n",
        "print(a)"
      ],
      "metadata": {
        "colab": {
          "base_uri": "https://localhost:8080/"
        },
        "id": "WteyZan4Nl1M",
        "outputId": "50426ec1-b285-42ce-b095-0f1c3f14b9aa"
      },
      "execution_count": null,
      "outputs": [
        {
          "output_type": "stream",
          "name": "stdout",
          "text": [
            "[20 30 40 50 60]\n"
          ]
        }
      ]
    },
    {
      "cell_type": "code",
      "source": [
        "b=np.array([22,32,42,52,62])\n",
        "print(a)"
      ],
      "metadata": {
        "colab": {
          "base_uri": "https://localhost:8080/"
        },
        "id": "YoqnqWy9NYwW",
        "outputId": "f55ee299-7463-41ac-fe59-1ce8308b72b8"
      },
      "execution_count": null,
      "outputs": [
        {
          "output_type": "stream",
          "name": "stdout",
          "text": [
            "[20 30 40 50 60]\n"
          ]
        }
      ]
    },
    {
      "cell_type": "code",
      "source": [
        "np.append(a,b)"
      ],
      "metadata": {
        "colab": {
          "base_uri": "https://localhost:8080/"
        },
        "id": "4IONqWaFOHBm",
        "outputId": "f85c7355-4078-463b-9197-16ecd854880f"
      },
      "execution_count": null,
      "outputs": [
        {
          "output_type": "execute_result",
          "data": {
            "text/plain": [
              "array([20, 30, 40, 50, 60, 22, 32, 42, 52, 62])"
            ]
          },
          "metadata": {},
          "execution_count": 138
        }
      ]
    },
    {
      "cell_type": "code",
      "source": [
        "np.append(a,b).reshape(2,5)"
      ],
      "metadata": {
        "colab": {
          "base_uri": "https://localhost:8080/"
        },
        "id": "oesL32ZOOOW6",
        "outputId": "a0b5ade6-9169-452f-a52a-0f311ff5bb8b"
      },
      "execution_count": null,
      "outputs": [
        {
          "output_type": "execute_result",
          "data": {
            "text/plain": [
              "array([[20, 30, 40, 50, 60],\n",
              "       [22, 32, 42, 52, 62]])"
            ]
          },
          "metadata": {},
          "execution_count": 139
        }
      ]
    },
    {
      "cell_type": "code",
      "source": [
        "np.append(a,b).reshape(10,1)"
      ],
      "metadata": {
        "colab": {
          "base_uri": "https://localhost:8080/"
        },
        "id": "mpqgYs8ZOle2",
        "outputId": "3633dcf4-9efe-4a6f-a076-1dab778d257f"
      },
      "execution_count": null,
      "outputs": [
        {
          "output_type": "execute_result",
          "data": {
            "text/plain": [
              "array([[20],\n",
              "       [30],\n",
              "       [40],\n",
              "       [50],\n",
              "       [60],\n",
              "       [22],\n",
              "       [32],\n",
              "       [42],\n",
              "       [52],\n",
              "       [62]])"
            ]
          },
          "metadata": {},
          "execution_count": 140
        }
      ]
    },
    {
      "cell_type": "markdown",
      "source": [
        "**insert()**"
      ],
      "metadata": {
        "id": "aqAmI7ssQ_xQ"
      }
    },
    {
      "cell_type": "markdown",
      "source": [
        "insert is also similar to append.\n",
        "\n",
        "insert is taken single dimension continuous memory location index array."
      ],
      "metadata": {
        "id": "FXAXDCHiRF2Y"
      }
    },
    {
      "cell_type": "code",
      "source": [
        "a=np.array([[2,3,4,5,6,7,8],[22,33,44,55,66,77,88]])\n",
        "print(a)"
      ],
      "metadata": {
        "colab": {
          "base_uri": "https://localhost:8080/"
        },
        "id": "TYtsp8JKRE0R",
        "outputId": "22d3d8d9-6812-4266-b279-1379eabff0be"
      },
      "execution_count": null,
      "outputs": [
        {
          "output_type": "stream",
          "name": "stdout",
          "text": [
            "[[ 2  3  4  5  6  7  8]\n",
            " [22 33 44 55 66 77 88]]\n"
          ]
        }
      ]
    },
    {
      "cell_type": "code",
      "source": [
        "np.insert(a,2,33)"
      ],
      "metadata": {
        "colab": {
          "base_uri": "https://localhost:8080/"
        },
        "id": "4neJHQ0RQ6_K",
        "outputId": "d143653d-a888-4947-fb46-96db4b89986b"
      },
      "execution_count": null,
      "outputs": [
        {
          "output_type": "execute_result",
          "data": {
            "text/plain": [
              "array([ 2,  3, 33,  4,  5,  6,  7,  8, 22, 33, 44, 55, 66, 77, 88])"
            ]
          },
          "metadata": {},
          "execution_count": 142
        }
      ]
    },
    {
      "cell_type": "code",
      "source": [
        "np.insert(a,7,[2,3,33,4,5,6,7,8,22,33,44,55,66,77,88]).reshape(1,29,1)"
      ],
      "metadata": {
        "colab": {
          "base_uri": "https://localhost:8080/"
        },
        "id": "qG1-PqvHSJif",
        "outputId": "21dcc19e-cf8b-499e-af53-09e2881839dc"
      },
      "execution_count": null,
      "outputs": [
        {
          "output_type": "execute_result",
          "data": {
            "text/plain": [
              "array([[[ 2],\n",
              "        [ 3],\n",
              "        [ 4],\n",
              "        [ 5],\n",
              "        [ 6],\n",
              "        [ 7],\n",
              "        [ 8],\n",
              "        [ 2],\n",
              "        [ 3],\n",
              "        [33],\n",
              "        [ 4],\n",
              "        [ 5],\n",
              "        [ 6],\n",
              "        [ 7],\n",
              "        [ 8],\n",
              "        [22],\n",
              "        [33],\n",
              "        [44],\n",
              "        [55],\n",
              "        [66],\n",
              "        [77],\n",
              "        [88],\n",
              "        [22],\n",
              "        [33],\n",
              "        [44],\n",
              "        [55],\n",
              "        [66],\n",
              "        [77],\n",
              "        [88]]])"
            ]
          },
          "metadata": {},
          "execution_count": 143
        }
      ]
    },
    {
      "cell_type": "markdown",
      "source": [
        "**delete()**"
      ],
      "metadata": {
        "id": "JhfSFiKgSq7e"
      }
    },
    {
      "cell_type": "code",
      "source": [
        "a=np.array([2,3,4,5,6,7,8])\n",
        "print(a)"
      ],
      "metadata": {
        "colab": {
          "base_uri": "https://localhost:8080/"
        },
        "id": "e8LpBFIwSzZf",
        "outputId": "94a512d2-c97c-4779-dced-307d61791ecd"
      },
      "execution_count": null,
      "outputs": [
        {
          "output_type": "stream",
          "name": "stdout",
          "text": [
            "[2 3 4 5 6 7 8]\n"
          ]
        }
      ]
    },
    {
      "cell_type": "code",
      "source": [
        "np.delete(a,2)"
      ],
      "metadata": {
        "colab": {
          "base_uri": "https://localhost:8080/"
        },
        "id": "FDB3dO73TCOG",
        "outputId": "a80b8fea-49b5-4f52-f404-3ece9aa04ed0"
      },
      "execution_count": null,
      "outputs": [
        {
          "output_type": "execute_result",
          "data": {
            "text/plain": [
              "array([2, 3, 5, 6, 7, 8])"
            ]
          },
          "metadata": {},
          "execution_count": 145
        }
      ]
    },
    {
      "cell_type": "code",
      "source": [
        "np.delete(a,0)"
      ],
      "metadata": {
        "colab": {
          "base_uri": "https://localhost:8080/"
        },
        "id": "pmLbPrXNTJg-",
        "outputId": "f32ad9b0-7391-411f-b178-bf26a114b7ec"
      },
      "execution_count": null,
      "outputs": [
        {
          "output_type": "execute_result",
          "data": {
            "text/plain": [
              "array([3, 4, 5, 6, 7, 8])"
            ]
          },
          "metadata": {},
          "execution_count": 146
        }
      ]
    },
    {
      "cell_type": "markdown",
      "source": [
        "**concatenate()**"
      ],
      "metadata": {
        "id": "AwajErvFTVD9"
      }
    },
    {
      "cell_type": "markdown",
      "source": [
        "two different arrays are concatenated"
      ],
      "metadata": {
        "id": "NM984xvhTa4j"
      }
    },
    {
      "cell_type": "code",
      "source": [
        "a=np.array([1,2,3,4,5,6,7])\n",
        "a"
      ],
      "metadata": {
        "colab": {
          "base_uri": "https://localhost:8080/"
        },
        "id": "tqKM621hTgT0",
        "outputId": "635bec3b-c767-498f-de3e-e9e47369970d"
      },
      "execution_count": null,
      "outputs": [
        {
          "output_type": "execute_result",
          "data": {
            "text/plain": [
              "array([1, 2, 3, 4, 5, 6, 7])"
            ]
          },
          "metadata": {},
          "execution_count": 147
        }
      ]
    },
    {
      "cell_type": "code",
      "source": [
        "b=np.array([11,12,13,14,15,16,17])\n",
        "b"
      ],
      "metadata": {
        "colab": {
          "base_uri": "https://localhost:8080/"
        },
        "id": "3IIprE6CTpAg",
        "outputId": "84cff226-94d2-4e19-b50b-bd79285d7d41"
      },
      "execution_count": null,
      "outputs": [
        {
          "output_type": "execute_result",
          "data": {
            "text/plain": [
              "array([11, 12, 13, 14, 15, 16, 17])"
            ]
          },
          "metadata": {},
          "execution_count": 148
        }
      ]
    },
    {
      "cell_type": "code",
      "source": [
        "np.concatenate((a,b))"
      ],
      "metadata": {
        "colab": {
          "base_uri": "https://localhost:8080/"
        },
        "id": "BOJHWj2DTzos",
        "outputId": "b4b82085-fad4-485f-8ed2-310361c7678f"
      },
      "execution_count": null,
      "outputs": [
        {
          "output_type": "execute_result",
          "data": {
            "text/plain": [
              "array([ 1,  2,  3,  4,  5,  6,  7, 11, 12, 13, 14, 15, 16, 17])"
            ]
          },
          "metadata": {},
          "execution_count": 149
        }
      ]
    },
    {
      "cell_type": "code",
      "source": [
        "np.concatenate((a,b),axis=0)"
      ],
      "metadata": {
        "colab": {
          "base_uri": "https://localhost:8080/"
        },
        "id": "9ob32Zd6T86I",
        "outputId": "28557dfc-bac9-4649-852c-1eaf8abe419d"
      },
      "execution_count": null,
      "outputs": [
        {
          "output_type": "execute_result",
          "data": {
            "text/plain": [
              "array([ 1,  2,  3,  4,  5,  6,  7, 11, 12, 13, 14, 15, 16, 17])"
            ]
          },
          "metadata": {},
          "execution_count": 150
        }
      ]
    },
    {
      "cell_type": "markdown",
      "source": [
        "stack()\n",
        "\n",
        "vstack()\n",
        "\n",
        "hstack()\n",
        "\n",
        "dstack()"
      ],
      "metadata": {
        "id": "5tWIzHnXULFO"
      }
    },
    {
      "cell_type": "markdown",
      "source": [
        "these all are used for joining arrays"
      ],
      "metadata": {
        "id": "4F_FUiJxUb1C"
      }
    },
    {
      "cell_type": "code",
      "source": [
        "a=np.array([234,235,236,237,238,239])\n",
        "a"
      ],
      "metadata": {
        "colab": {
          "base_uri": "https://localhost:8080/"
        },
        "id": "9hMWnEywUisI",
        "outputId": "2d52b0fc-fc04-4f2d-d17c-72824194d00b"
      },
      "execution_count": null,
      "outputs": [
        {
          "output_type": "execute_result",
          "data": {
            "text/plain": [
              "array([234, 235, 236, 237, 238, 239])"
            ]
          },
          "metadata": {},
          "execution_count": 151
        }
      ]
    },
    {
      "cell_type": "code",
      "source": [
        "b=np.array([22,33,44,55,66,77])\n",
        "b"
      ],
      "metadata": {
        "colab": {
          "base_uri": "https://localhost:8080/"
        },
        "id": "MlN9Oj40Ux-c",
        "outputId": "f77ae7ff-fc79-4eee-d558-4a014b13deaa"
      },
      "execution_count": null,
      "outputs": [
        {
          "output_type": "execute_result",
          "data": {
            "text/plain": [
              "array([22, 33, 44, 55, 66, 77])"
            ]
          },
          "metadata": {},
          "execution_count": 152
        }
      ]
    },
    {
      "cell_type": "code",
      "source": [
        "np.stack((a,b))"
      ],
      "metadata": {
        "colab": {
          "base_uri": "https://localhost:8080/"
        },
        "id": "pH3UgVkxU6lq",
        "outputId": "7a325d07-89b2-430c-aeb0-7fad4da5ced3"
      },
      "execution_count": null,
      "outputs": [
        {
          "output_type": "execute_result",
          "data": {
            "text/plain": [
              "array([[234, 235, 236, 237, 238, 239],\n",
              "       [ 22,  33,  44,  55,  66,  77]])"
            ]
          },
          "metadata": {},
          "execution_count": 153
        }
      ]
    },
    {
      "cell_type": "code",
      "source": [
        "res=np.stack((a,b))"
      ],
      "metadata": {
        "id": "5HvCBd8sVA2h"
      },
      "execution_count": null,
      "outputs": []
    },
    {
      "cell_type": "code",
      "source": [
        "res"
      ],
      "metadata": {
        "colab": {
          "base_uri": "https://localhost:8080/"
        },
        "id": "eanLYN9iVRv6",
        "outputId": "4fa5e034-03a6-4f49-d8d7-a2dab6f85912"
      },
      "execution_count": null,
      "outputs": [
        {
          "output_type": "execute_result",
          "data": {
            "text/plain": [
              "array([[234, 235, 236, 237, 238, 239],\n",
              "       [ 22,  33,  44,  55,  66,  77]])"
            ]
          },
          "metadata": {},
          "execution_count": 155
        }
      ]
    },
    {
      "cell_type": "code",
      "source": [
        "res[1]"
      ],
      "metadata": {
        "colab": {
          "base_uri": "https://localhost:8080/"
        },
        "id": "zMdfR9J-VUEv",
        "outputId": "9c9f97a9-b97b-46f0-a250-ca9d927cfe8e"
      },
      "execution_count": null,
      "outputs": [
        {
          "output_type": "execute_result",
          "data": {
            "text/plain": [
              "array([22, 33, 44, 55, 66, 77])"
            ]
          },
          "metadata": {},
          "execution_count": 156
        }
      ]
    },
    {
      "cell_type": "markdown",
      "source": [
        "**vstack()**"
      ],
      "metadata": {
        "id": "wr2Krp5tVgqE"
      }
    },
    {
      "cell_type": "code",
      "source": [
        "a=np.array([[10,20],[30,40]])\n",
        "a"
      ],
      "metadata": {
        "colab": {
          "base_uri": "https://localhost:8080/"
        },
        "id": "NibzzvFhVZx-",
        "outputId": "7f7e6ca1-89ae-453c-b4b1-5d777dc9a209"
      },
      "execution_count": null,
      "outputs": [
        {
          "output_type": "execute_result",
          "data": {
            "text/plain": [
              "array([[10, 20],\n",
              "       [30, 40]])"
            ]
          },
          "metadata": {},
          "execution_count": 157
        }
      ]
    },
    {
      "cell_type": "code",
      "source": [
        "b=np.array([[50,60],[70,80]])\n",
        "b"
      ],
      "metadata": {
        "colab": {
          "base_uri": "https://localhost:8080/"
        },
        "id": "-0QG_k1AVvvj",
        "outputId": "1e673e12-b38d-4992-89d0-4dffc5fc8369"
      },
      "execution_count": null,
      "outputs": [
        {
          "output_type": "execute_result",
          "data": {
            "text/plain": [
              "array([[50, 60],\n",
              "       [70, 80]])"
            ]
          },
          "metadata": {},
          "execution_count": 158
        }
      ]
    },
    {
      "cell_type": "code",
      "source": [
        "np.vstack((a,b))"
      ],
      "metadata": {
        "colab": {
          "base_uri": "https://localhost:8080/"
        },
        "id": "J2yuZMKzV7Xz",
        "outputId": "ea8da9b5-227f-4581-f92a-955731c0f65f"
      },
      "execution_count": null,
      "outputs": [
        {
          "output_type": "execute_result",
          "data": {
            "text/plain": [
              "array([[10, 20],\n",
              "       [30, 40],\n",
              "       [50, 60],\n",
              "       [70, 80]])"
            ]
          },
          "metadata": {},
          "execution_count": 159
        }
      ]
    },
    {
      "cell_type": "markdown",
      "source": [
        "**hstack()**"
      ],
      "metadata": {
        "id": "Huu8m6WYs8im"
      }
    },
    {
      "cell_type": "markdown",
      "source": [
        "horizontal stack"
      ],
      "metadata": {
        "id": "5qK6VzBytFff"
      }
    },
    {
      "cell_type": "code",
      "source": [
        "a=np.array([1,2,3,4,5])\n",
        "a\n"
      ],
      "metadata": {
        "colab": {
          "base_uri": "https://localhost:8080/"
        },
        "id": "lxqkJyjduD-G",
        "outputId": "38e57cb7-161c-4443-e3d8-c47dc6833133"
      },
      "execution_count": null,
      "outputs": [
        {
          "output_type": "execute_result",
          "data": {
            "text/plain": [
              "array([1, 2, 3, 4, 5])"
            ]
          },
          "metadata": {},
          "execution_count": 160
        }
      ]
    },
    {
      "cell_type": "code",
      "source": [
        "b=np.array([5,6,7,8,9])\n",
        "b"
      ],
      "metadata": {
        "colab": {
          "base_uri": "https://localhost:8080/"
        },
        "id": "7cnTKVvXuwiG",
        "outputId": "ef2152b6-61db-45e3-b34e-1728f962ac73"
      },
      "execution_count": null,
      "outputs": [
        {
          "output_type": "execute_result",
          "data": {
            "text/plain": [
              "array([5, 6, 7, 8, 9])"
            ]
          },
          "metadata": {},
          "execution_count": 161
        }
      ]
    },
    {
      "cell_type": "code",
      "source": [
        "np.hstack((a,b))"
      ],
      "metadata": {
        "colab": {
          "base_uri": "https://localhost:8080/"
        },
        "id": "hp4NFkzctEXd",
        "outputId": "e1497d01-804e-4e1c-b17b-fa17fa7a4171"
      },
      "execution_count": null,
      "outputs": [
        {
          "output_type": "execute_result",
          "data": {
            "text/plain": [
              "array([1, 2, 3, 4, 5, 5, 6, 7, 8, 9])"
            ]
          },
          "metadata": {},
          "execution_count": 162
        }
      ]
    },
    {
      "cell_type": "code",
      "source": [
        "np.concatenate((a,b))"
      ],
      "metadata": {
        "colab": {
          "base_uri": "https://localhost:8080/"
        },
        "id": "93RMAU1WtfYD",
        "outputId": "2788de79-d4ea-401d-d29c-7bab75691f97"
      },
      "execution_count": null,
      "outputs": [
        {
          "output_type": "execute_result",
          "data": {
            "text/plain": [
              "array([1, 2, 3, 4, 5, 5, 6, 7, 8, 9])"
            ]
          },
          "metadata": {},
          "execution_count": 163
        }
      ]
    },
    {
      "cell_type": "code",
      "source": [
        "np.concatenate((a,b),axis=0)"
      ],
      "metadata": {
        "colab": {
          "base_uri": "https://localhost:8080/"
        },
        "id": "MHUxPHievrXE",
        "outputId": "fc4b02a1-e095-4502-fe93-10aae4cb24c7"
      },
      "execution_count": null,
      "outputs": [
        {
          "output_type": "execute_result",
          "data": {
            "text/plain": [
              "array([1, 2, 3, 4, 5, 5, 6, 7, 8, 9])"
            ]
          },
          "metadata": {},
          "execution_count": 164
        }
      ]
    },
    {
      "cell_type": "markdown",
      "source": [
        "**depth wise()**"
      ],
      "metadata": {
        "id": "v18JSjyYv8TG"
      }
    },
    {
      "cell_type": "markdown",
      "source": [
        "dstack()"
      ],
      "metadata": {
        "id": "j4W5qcQNwC2H"
      }
    },
    {
      "cell_type": "code",
      "source": [
        "a=np.array([[10,20],[30,40]])\n",
        "a"
      ],
      "metadata": {
        "colab": {
          "base_uri": "https://localhost:8080/"
        },
        "id": "adW2SWwjwGUB",
        "outputId": "de2e7707-ac77-4f4d-e7ae-f1d83b5d8c25"
      },
      "execution_count": null,
      "outputs": [
        {
          "output_type": "execute_result",
          "data": {
            "text/plain": [
              "array([[10, 20],\n",
              "       [30, 40]])"
            ]
          },
          "metadata": {},
          "execution_count": 165
        }
      ]
    },
    {
      "cell_type": "code",
      "source": [
        "b=np.array([[50,60],[70,80]])\n",
        "b"
      ],
      "metadata": {
        "colab": {
          "base_uri": "https://localhost:8080/"
        },
        "id": "tRlUS1xowZB2",
        "outputId": "2ea95321-40c4-4048-c2cc-aed6f26387d8"
      },
      "execution_count": null,
      "outputs": [
        {
          "output_type": "execute_result",
          "data": {
            "text/plain": [
              "array([[50, 60],\n",
              "       [70, 80]])"
            ]
          },
          "metadata": {},
          "execution_count": 166
        }
      ]
    },
    {
      "cell_type": "code",
      "source": [
        "np.dstack((a,b))"
      ],
      "metadata": {
        "colab": {
          "base_uri": "https://localhost:8080/"
        },
        "id": "Qq6bLrN6wn9J",
        "outputId": "943a1e73-f1e3-4f7e-d61d-6c3c671e52fb"
      },
      "execution_count": null,
      "outputs": [
        {
          "output_type": "execute_result",
          "data": {
            "text/plain": [
              "array([[[10, 50],\n",
              "        [20, 60]],\n",
              "\n",
              "       [[30, 70],\n",
              "        [40, 80]]])"
            ]
          },
          "metadata": {},
          "execution_count": 167
        }
      ]
    },
    {
      "cell_type": "markdown",
      "source": [
        "**split()**"
      ],
      "metadata": {
        "id": "oPKmLrc6wvcf"
      }
    },
    {
      "cell_type": "code",
      "source": [
        "x=np.arange(5,60,2)\n",
        "print(x)"
      ],
      "metadata": {
        "colab": {
          "base_uri": "https://localhost:8080/"
        },
        "id": "pa7j5P75w0l7",
        "outputId": "abba2cb1-e233-443a-e751-305bd050eda5"
      },
      "execution_count": null,
      "outputs": [
        {
          "output_type": "stream",
          "name": "stdout",
          "text": [
            "[ 5  7  9 11 13 15 17 19 21 23 25 27 29 31 33 35 37 39 41 43 45 47 49 51\n",
            " 53 55 57 59]\n"
          ]
        }
      ]
    },
    {
      "cell_type": "code",
      "source": [
        "np.split(x,7)"
      ],
      "metadata": {
        "colab": {
          "base_uri": "https://localhost:8080/"
        },
        "id": "dmiuUvYNw-fM",
        "outputId": "af71ff9a-147c-46b6-be0a-92f552de6481"
      },
      "execution_count": null,
      "outputs": [
        {
          "output_type": "execute_result",
          "data": {
            "text/plain": [
              "[array([ 5,  7,  9, 11]),\n",
              " array([13, 15, 17, 19]),\n",
              " array([21, 23, 25, 27]),\n",
              " array([29, 31, 33, 35]),\n",
              " array([37, 39, 41, 43]),\n",
              " array([45, 47, 49, 51]),\n",
              " array([53, 55, 57, 59])]"
            ]
          },
          "metadata": {},
          "execution_count": 169
        }
      ]
    },
    {
      "cell_type": "code",
      "source": [
        "np.split(x,14)"
      ],
      "metadata": {
        "colab": {
          "base_uri": "https://localhost:8080/"
        },
        "id": "PPbXzBJXxER3",
        "outputId": "a74c4cd8-18a6-4140-b539-5491ad96130e"
      },
      "execution_count": null,
      "outputs": [
        {
          "output_type": "execute_result",
          "data": {
            "text/plain": [
              "[array([5, 7]),\n",
              " array([ 9, 11]),\n",
              " array([13, 15]),\n",
              " array([17, 19]),\n",
              " array([21, 23]),\n",
              " array([25, 27]),\n",
              " array([29, 31]),\n",
              " array([33, 35]),\n",
              " array([37, 39]),\n",
              " array([41, 43]),\n",
              " array([45, 47]),\n",
              " array([49, 51]),\n",
              " array([53, 55]),\n",
              " array([57, 59])]"
            ]
          },
          "metadata": {},
          "execution_count": 170
        }
      ]
    },
    {
      "cell_type": "code",
      "source": [
        "s1,s2,s3,s4,s5,s6,s7=np.split(x,7)"
      ],
      "metadata": {
        "id": "r9trJ7x0xTLT"
      },
      "execution_count": null,
      "outputs": []
    },
    {
      "cell_type": "code",
      "source": [
        "s1"
      ],
      "metadata": {
        "colab": {
          "base_uri": "https://localhost:8080/"
        },
        "id": "XW2vXkJmxeJD",
        "outputId": "8e402bec-8554-467a-e250-846f127f863c"
      },
      "execution_count": null,
      "outputs": [
        {
          "output_type": "execute_result",
          "data": {
            "text/plain": [
              "array([ 5,  7,  9, 11])"
            ]
          },
          "metadata": {},
          "execution_count": 172
        }
      ]
    },
    {
      "cell_type": "code",
      "source": [
        "s2"
      ],
      "metadata": {
        "colab": {
          "base_uri": "https://localhost:8080/"
        },
        "id": "SKwOhNf9xgwx",
        "outputId": "88910429-62e3-4aaf-a451-bd7e5c5002ce"
      },
      "execution_count": null,
      "outputs": [
        {
          "output_type": "execute_result",
          "data": {
            "text/plain": [
              "array([13, 15, 17, 19])"
            ]
          },
          "metadata": {},
          "execution_count": 173
        }
      ]
    },
    {
      "cell_type": "code",
      "source": [
        "s3"
      ],
      "metadata": {
        "colab": {
          "base_uri": "https://localhost:8080/"
        },
        "id": "DYgFwMoHxj5X",
        "outputId": "f3739b17-b54d-4538-fc64-33cd15960807"
      },
      "execution_count": null,
      "outputs": [
        {
          "output_type": "execute_result",
          "data": {
            "text/plain": [
              "array([21, 23, 25, 27])"
            ]
          },
          "metadata": {},
          "execution_count": 174
        }
      ]
    },
    {
      "cell_type": "code",
      "source": [
        "s4"
      ],
      "metadata": {
        "colab": {
          "base_uri": "https://localhost:8080/"
        },
        "id": "2-iAY0S1xmYF",
        "outputId": "cfc9a8fe-da94-413a-f299-861905fbbae6"
      },
      "execution_count": null,
      "outputs": [
        {
          "output_type": "execute_result",
          "data": {
            "text/plain": [
              "array([29, 31, 33, 35])"
            ]
          },
          "metadata": {},
          "execution_count": 175
        }
      ]
    },
    {
      "cell_type": "code",
      "source": [
        "s5"
      ],
      "metadata": {
        "colab": {
          "base_uri": "https://localhost:8080/"
        },
        "id": "9EuHF0KKxpJg",
        "outputId": "604daa59-76fc-46e1-d4a9-4206b2171e10"
      },
      "execution_count": null,
      "outputs": [
        {
          "output_type": "execute_result",
          "data": {
            "text/plain": [
              "array([37, 39, 41, 43])"
            ]
          },
          "metadata": {},
          "execution_count": 176
        }
      ]
    },
    {
      "cell_type": "code",
      "source": [
        "s6"
      ],
      "metadata": {
        "colab": {
          "base_uri": "https://localhost:8080/"
        },
        "id": "k2BYvMeZxrdy",
        "outputId": "a882290f-71ba-43f5-9b9f-bb9b35d44ad6"
      },
      "execution_count": null,
      "outputs": [
        {
          "output_type": "execute_result",
          "data": {
            "text/plain": [
              "array([45, 47, 49, 51])"
            ]
          },
          "metadata": {},
          "execution_count": 177
        }
      ]
    },
    {
      "cell_type": "code",
      "source": [
        "s7"
      ],
      "metadata": {
        "colab": {
          "base_uri": "https://localhost:8080/"
        },
        "id": "8sbhDCVqxt6O",
        "outputId": "c49b08f0-e562-4a0e-d06f-db58bd5c2559"
      },
      "execution_count": null,
      "outputs": [
        {
          "output_type": "execute_result",
          "data": {
            "text/plain": [
              "array([53, 55, 57, 59])"
            ]
          },
          "metadata": {},
          "execution_count": 178
        }
      ]
    },
    {
      "cell_type": "markdown",
      "source": [
        "**where()**"
      ],
      "metadata": {
        "id": "4IDrXnyExzCA"
      }
    },
    {
      "cell_type": "markdown",
      "source": [
        "it checks whether the elements are present in the array or not"
      ],
      "metadata": {
        "id": "z9jy75yex7Op"
      }
    },
    {
      "cell_type": "code",
      "source": [
        "a"
      ],
      "metadata": {
        "colab": {
          "base_uri": "https://localhost:8080/"
        },
        "id": "tQJAqldoyEI3",
        "outputId": "62c5ecbb-82ec-4fb6-b324-1cd2a5d2373b"
      },
      "execution_count": null,
      "outputs": [
        {
          "output_type": "execute_result",
          "data": {
            "text/plain": [
              "array([[10, 20],\n",
              "       [30, 40]])"
            ]
          },
          "metadata": {},
          "execution_count": 179
        }
      ]
    },
    {
      "cell_type": "code",
      "source": [
        "a=np.arange(5,65,5).reshape(4,3)\n",
        "a"
      ],
      "metadata": {
        "colab": {
          "base_uri": "https://localhost:8080/"
        },
        "id": "tk-IIMKRyJHC",
        "outputId": "cd6e9154-af24-46e7-dca6-ff31efdcd5bb"
      },
      "execution_count": null,
      "outputs": [
        {
          "output_type": "execute_result",
          "data": {
            "text/plain": [
              "array([[ 5, 10, 15],\n",
              "       [20, 25, 30],\n",
              "       [35, 40, 45],\n",
              "       [50, 55, 60]])"
            ]
          },
          "metadata": {},
          "execution_count": 180
        }
      ]
    },
    {
      "cell_type": "code",
      "source": [
        "np.where(a==55)"
      ],
      "metadata": {
        "colab": {
          "base_uri": "https://localhost:8080/"
        },
        "id": "s5EjRTl7yXc4",
        "outputId": "a6fb33be-ef13-4868-b5b8-c21d5adeacea"
      },
      "execution_count": null,
      "outputs": [
        {
          "output_type": "execute_result",
          "data": {
            "text/plain": [
              "(array([3]), array([1]))"
            ]
          },
          "metadata": {},
          "execution_count": 181
        }
      ]
    },
    {
      "cell_type": "code",
      "source": [
        "a=np.arange(5,65,5).reshape(6,2)\n",
        "a"
      ],
      "metadata": {
        "colab": {
          "base_uri": "https://localhost:8080/"
        },
        "id": "P73au4KHyd_q",
        "outputId": "7545a637-0042-456c-e6d1-7828a5da088a"
      },
      "execution_count": null,
      "outputs": [
        {
          "output_type": "execute_result",
          "data": {
            "text/plain": [
              "array([[ 5, 10],\n",
              "       [15, 20],\n",
              "       [25, 30],\n",
              "       [35, 40],\n",
              "       [45, 50],\n",
              "       [55, 60]])"
            ]
          },
          "metadata": {},
          "execution_count": 182
        }
      ]
    },
    {
      "cell_type": "code",
      "source": [
        "np.where(a==40)"
      ],
      "metadata": {
        "colab": {
          "base_uri": "https://localhost:8080/"
        },
        "id": "V2Er6fpfy1KS",
        "outputId": "46c66528-e675-426c-8ee2-84e30ef6f744"
      },
      "execution_count": null,
      "outputs": [
        {
          "output_type": "execute_result",
          "data": {
            "text/plain": [
              "(array([3]), array([1]))"
            ]
          },
          "metadata": {},
          "execution_count": 183
        }
      ]
    },
    {
      "cell_type": "code",
      "source": [
        "np.where(a==45)"
      ],
      "metadata": {
        "colab": {
          "base_uri": "https://localhost:8080/"
        },
        "id": "3WM2xUHry7DN",
        "outputId": "a7d11b78-1de6-4b8d-a66e-cee3fbc37bd4"
      },
      "execution_count": null,
      "outputs": [
        {
          "output_type": "execute_result",
          "data": {
            "text/plain": [
              "(array([4]), array([0]))"
            ]
          },
          "metadata": {},
          "execution_count": 184
        }
      ]
    },
    {
      "cell_type": "code",
      "source": [
        "np.where(a==46)"
      ],
      "metadata": {
        "colab": {
          "base_uri": "https://localhost:8080/"
        },
        "id": "Ca1WR6MSzABo",
        "outputId": "87ad5422-317c-4def-e305-8468ceb1e931"
      },
      "execution_count": null,
      "outputs": [
        {
          "output_type": "execute_result",
          "data": {
            "text/plain": [
              "(array([], dtype=int64), array([], dtype=int64))"
            ]
          },
          "metadata": {},
          "execution_count": 185
        }
      ]
    },
    {
      "cell_type": "code",
      "source": [
        "np.where(a==47)"
      ],
      "metadata": {
        "colab": {
          "base_uri": "https://localhost:8080/"
        },
        "id": "lENwnkcEzHgh",
        "outputId": "054cf445-347f-451e-bac2-f9904011d4e7"
      },
      "execution_count": null,
      "outputs": [
        {
          "output_type": "execute_result",
          "data": {
            "text/plain": [
              "(array([], dtype=int64), array([], dtype=int64))"
            ]
          },
          "metadata": {},
          "execution_count": 186
        }
      ]
    },
    {
      "cell_type": "code",
      "source": [
        "np.where(a==56)"
      ],
      "metadata": {
        "colab": {
          "base_uri": "https://localhost:8080/"
        },
        "id": "0W-oZ9srzTsy",
        "outputId": "ea42e313-03f8-4cc8-a55a-6a104eb18da9"
      },
      "execution_count": null,
      "outputs": [
        {
          "output_type": "execute_result",
          "data": {
            "text/plain": [
              "(array([], dtype=int64), array([], dtype=int64))"
            ]
          },
          "metadata": {},
          "execution_count": 187
        }
      ]
    },
    {
      "cell_type": "code",
      "source": [
        "np.where(a==36)"
      ],
      "metadata": {
        "colab": {
          "base_uri": "https://localhost:8080/"
        },
        "id": "hs15FqYfzXR2",
        "outputId": "dfd3fe55-c8d8-4bfe-95ec-cae65a6099e0"
      },
      "execution_count": null,
      "outputs": [
        {
          "output_type": "execute_result",
          "data": {
            "text/plain": [
              "(array([], dtype=int64), array([], dtype=int64))"
            ]
          },
          "metadata": {},
          "execution_count": 188
        }
      ]
    },
    {
      "cell_type": "code",
      "source": [
        "np.where(a==26)"
      ],
      "metadata": {
        "colab": {
          "base_uri": "https://localhost:8080/"
        },
        "id": "6Ap47f0Pzawo",
        "outputId": "adfe46c3-2333-4225-d4a6-c4a829244435"
      },
      "execution_count": null,
      "outputs": [
        {
          "output_type": "execute_result",
          "data": {
            "text/plain": [
              "(array([], dtype=int64), array([], dtype=int64))"
            ]
          },
          "metadata": {},
          "execution_count": 189
        }
      ]
    },
    {
      "cell_type": "markdown",
      "source": [
        "**searchsorted()**"
      ],
      "metadata": {
        "id": "hKFyLrimzqd1"
      }
    },
    {
      "cell_type": "code",
      "source": [
        "a=np.array([1,2,3,4,5,6,7,8,9])\n",
        "a"
      ],
      "metadata": {
        "colab": {
          "base_uri": "https://localhost:8080/"
        },
        "id": "hBRK69Z8zpyX",
        "outputId": "511f3e28-bcd4-4423-81b7-bee9e9f324d9"
      },
      "execution_count": null,
      "outputs": [
        {
          "output_type": "execute_result",
          "data": {
            "text/plain": [
              "array([1, 2, 3, 4, 5, 6, 7, 8, 9])"
            ]
          },
          "metadata": {},
          "execution_count": 190
        }
      ]
    },
    {
      "cell_type": "code",
      "source": [
        "np.searchsorted(a,5)"
      ],
      "metadata": {
        "colab": {
          "base_uri": "https://localhost:8080/"
        },
        "id": "dqiOg5a-0Iuo",
        "outputId": "bed32709-3c67-4d48-8b4c-bb860efd1129"
      },
      "execution_count": null,
      "outputs": [
        {
          "output_type": "execute_result",
          "data": {
            "text/plain": [
              "4"
            ]
          },
          "metadata": {},
          "execution_count": 191
        }
      ]
    },
    {
      "cell_type": "markdown",
      "source": [
        "                                                **ARITHMETIC OPERATIONS**                                                                "
      ],
      "metadata": {
        "id": "1ttOixmm0RYF"
      }
    },
    {
      "cell_type": "markdown",
      "source": [
        "add()\n",
        "\n",
        "subtract()\n",
        "\n",
        "multiply()\n",
        "\n",
        "divide()\n",
        "\n",
        "exp()\n",
        "\n",
        "sqrt()\n",
        "\n",
        "comparision()"
      ],
      "metadata": {
        "id": "2eDJeOwD0kOi"
      }
    },
    {
      "cell_type": "markdown",
      "source": [
        "addition"
      ],
      "metadata": {
        "id": "E_tWIsN80yQn"
      }
    },
    {
      "cell_type": "code",
      "source": [
        "a=np.array([[23,35,46],[65,74,87]])\n",
        "a"
      ],
      "metadata": {
        "colab": {
          "base_uri": "https://localhost:8080/"
        },
        "id": "G7WlvjSM00D2",
        "outputId": "6f61c2f3-baec-4287-885c-4c638c5beed1"
      },
      "execution_count": null,
      "outputs": [
        {
          "output_type": "execute_result",
          "data": {
            "text/plain": [
              "array([[23, 35, 46],\n",
              "       [65, 74, 87]])"
            ]
          },
          "metadata": {},
          "execution_count": 192
        }
      ]
    },
    {
      "cell_type": "code",
      "source": [
        "b=np.array([[36,12,33],[98,44,56]])\n",
        "b"
      ],
      "metadata": {
        "colab": {
          "base_uri": "https://localhost:8080/"
        },
        "id": "QjLbbGNV1Lph",
        "outputId": "eeda6f02-d99c-454a-854c-fb2cbc8e6c07"
      },
      "execution_count": null,
      "outputs": [
        {
          "output_type": "execute_result",
          "data": {
            "text/plain": [
              "array([[36, 12, 33],\n",
              "       [98, 44, 56]])"
            ]
          },
          "metadata": {},
          "execution_count": 193
        }
      ]
    },
    {
      "cell_type": "code",
      "source": [
        "np.add(a,b)"
      ],
      "metadata": {
        "colab": {
          "base_uri": "https://localhost:8080/"
        },
        "id": "H5F2wkpj1YKF",
        "outputId": "0144ac5c-a9b1-4d94-fde8-2e42906a520b"
      },
      "execution_count": null,
      "outputs": [
        {
          "output_type": "execute_result",
          "data": {
            "text/plain": [
              "array([[ 59,  47,  79],\n",
              "       [163, 118, 143]])"
            ]
          },
          "metadata": {},
          "execution_count": 194
        }
      ]
    },
    {
      "cell_type": "markdown",
      "source": [
        "subtract"
      ],
      "metadata": {
        "id": "7cDgBBNP1eC4"
      }
    },
    {
      "cell_type": "code",
      "source": [
        "np.subtract(a,b)"
      ],
      "metadata": {
        "colab": {
          "base_uri": "https://localhost:8080/"
        },
        "id": "DwdobyX61g7M",
        "outputId": "251f5390-7102-49fc-c8f8-abd052a8a886"
      },
      "execution_count": null,
      "outputs": [
        {
          "output_type": "execute_result",
          "data": {
            "text/plain": [
              "array([[-13,  23,  13],\n",
              "       [-33,  30,  31]])"
            ]
          },
          "metadata": {},
          "execution_count": 195
        }
      ]
    },
    {
      "cell_type": "markdown",
      "source": [
        "multiply"
      ],
      "metadata": {
        "id": "qpI7L5Jy1mJx"
      }
    },
    {
      "cell_type": "code",
      "source": [
        "np.multiply(a,b)"
      ],
      "metadata": {
        "colab": {
          "base_uri": "https://localhost:8080/"
        },
        "id": "YU4FJtjX1n2v",
        "outputId": "eab132a0-49ef-4611-d49f-2973ddeabe47"
      },
      "execution_count": null,
      "outputs": [
        {
          "output_type": "execute_result",
          "data": {
            "text/plain": [
              "array([[ 828,  420, 1518],\n",
              "       [6370, 3256, 4872]])"
            ]
          },
          "metadata": {},
          "execution_count": 196
        }
      ]
    },
    {
      "cell_type": "markdown",
      "source": [
        "divide"
      ],
      "metadata": {
        "id": "Ftb_Aofm1s65"
      }
    },
    {
      "cell_type": "code",
      "source": [
        "np.divide(a,b)"
      ],
      "metadata": {
        "colab": {
          "base_uri": "https://localhost:8080/"
        },
        "id": "4dnuwQ0l1ws3",
        "outputId": "530df6f1-d73c-4668-efba-01ff11618662"
      },
      "execution_count": null,
      "outputs": [
        {
          "output_type": "execute_result",
          "data": {
            "text/plain": [
              "array([[0.63888889, 2.91666667, 1.39393939],\n",
              "       [0.66326531, 1.68181818, 1.55357143]])"
            ]
          },
          "metadata": {},
          "execution_count": 197
        }
      ]
    },
    {
      "cell_type": "markdown",
      "source": [
        "exponential"
      ],
      "metadata": {
        "id": "jBv3Bl2e13qN"
      }
    },
    {
      "cell_type": "code",
      "source": [
        "np.exp(a)"
      ],
      "metadata": {
        "colab": {
          "base_uri": "https://localhost:8080/"
        },
        "id": "8bElBuKU16Oo",
        "outputId": "70ce3047-ac85-44a5-95af-d74dabba8e5e"
      },
      "execution_count": null,
      "outputs": [
        {
          "output_type": "execute_result",
          "data": {
            "text/plain": [
              "array([[9.74480345e+09, 1.58601345e+15, 9.49611942e+19],\n",
              "       [1.69488924e+28, 1.37338298e+32, 6.07603023e+37]])"
            ]
          },
          "metadata": {},
          "execution_count": 198
        }
      ]
    },
    {
      "cell_type": "markdown",
      "source": [
        "square root"
      ],
      "metadata": {
        "id": "FiiIbcmz2Bjv"
      }
    },
    {
      "cell_type": "code",
      "source": [
        "np.sqrt(b)"
      ],
      "metadata": {
        "colab": {
          "base_uri": "https://localhost:8080/"
        },
        "id": "tAm1A7es2ERk",
        "outputId": "ac82c5c1-3d75-4e8a-a220-f45b0b16cf6f"
      },
      "execution_count": null,
      "outputs": [
        {
          "output_type": "execute_result",
          "data": {
            "text/plain": [
              "array([[6.        , 3.46410162, 5.74456265],\n",
              "       [9.89949494, 6.63324958, 7.48331477]])"
            ]
          },
          "metadata": {},
          "execution_count": 199
        }
      ]
    },
    {
      "cell_type": "markdown",
      "source": [
        "comparision"
      ],
      "metadata": {
        "id": "c1LwJj562PVa"
      }
    },
    {
      "cell_type": "code",
      "source": [
        "a"
      ],
      "metadata": {
        "colab": {
          "base_uri": "https://localhost:8080/"
        },
        "id": "ay9vVk4q2RNm",
        "outputId": "ee16b25c-4869-437e-c06a-1d6ad0098ab7"
      },
      "execution_count": null,
      "outputs": [
        {
          "output_type": "execute_result",
          "data": {
            "text/plain": [
              "array([[23, 35, 46],\n",
              "       [65, 74, 87]])"
            ]
          },
          "metadata": {},
          "execution_count": 200
        }
      ]
    },
    {
      "cell_type": "code",
      "source": [
        "b"
      ],
      "metadata": {
        "colab": {
          "base_uri": "https://localhost:8080/"
        },
        "id": "PQGa__yb2UC3",
        "outputId": "63d56ae4-1921-4f12-9e19-9921d6053c90"
      },
      "execution_count": null,
      "outputs": [
        {
          "output_type": "execute_result",
          "data": {
            "text/plain": [
              "array([[36, 12, 33],\n",
              "       [98, 44, 56]])"
            ]
          },
          "metadata": {},
          "execution_count": 201
        }
      ]
    },
    {
      "cell_type": "code",
      "source": [
        "np.array_equal(a,b)"
      ],
      "metadata": {
        "colab": {
          "base_uri": "https://localhost:8080/"
        },
        "id": "GHzTpmY02Vvn",
        "outputId": "40fbb3ab-481e-4378-f9f5-6b68585bdddc"
      },
      "execution_count": null,
      "outputs": [
        {
          "output_type": "execute_result",
          "data": {
            "text/plain": [
              "False"
            ]
          },
          "metadata": {},
          "execution_count": 202
        }
      ]
    },
    {
      "cell_type": "markdown",
      "source": [
        "                                     **ARRAY FUNCTIONS**"
      ],
      "metadata": {
        "id": "FAlBfL_O2dp6"
      }
    },
    {
      "cell_type": "markdown",
      "source": [
        "sum()\n",
        "\n",
        "min()\n",
        "\n",
        "max()\n",
        "\n",
        "mean()\n",
        "\n",
        "median()\n",
        "\n",
        "var()\n",
        "\n",
        "std()"
      ],
      "metadata": {
        "id": "OHY1Of4v2mpn"
      }
    },
    {
      "cell_type": "markdown",
      "source": [
        "min()"
      ],
      "metadata": {
        "id": "3bg6U3Bk20EJ"
      }
    },
    {
      "cell_type": "code",
      "source": [
        "a=np.array([[100,200],[300,400],[500,600]])\n",
        "a"
      ],
      "metadata": {
        "colab": {
          "base_uri": "https://localhost:8080/"
        },
        "id": "3kbZhaO8223J",
        "outputId": "6827969e-75ed-4cff-b0a5-2ea38ae77ed1"
      },
      "execution_count": null,
      "outputs": [
        {
          "output_type": "execute_result",
          "data": {
            "text/plain": [
              "array([[100, 200],\n",
              "       [300, 400],\n",
              "       [500, 600]])"
            ]
          },
          "metadata": {},
          "execution_count": 203
        }
      ]
    },
    {
      "cell_type": "code",
      "source": [
        "np.min(a)"
      ],
      "metadata": {
        "colab": {
          "base_uri": "https://localhost:8080/"
        },
        "id": "VCYiiRHT3L_Z",
        "outputId": "485ac2b8-815b-4acc-90bb-4a4a309b7dc7"
      },
      "execution_count": null,
      "outputs": [
        {
          "output_type": "execute_result",
          "data": {
            "text/plain": [
              "100"
            ]
          },
          "metadata": {},
          "execution_count": 204
        }
      ]
    },
    {
      "cell_type": "code",
      "source": [
        "np.max(a)"
      ],
      "metadata": {
        "colab": {
          "base_uri": "https://localhost:8080/"
        },
        "id": "fPJinlqb3S45",
        "outputId": "84dccee4-5a91-4a35-967b-410a1a97cbd2"
      },
      "execution_count": null,
      "outputs": [
        {
          "output_type": "execute_result",
          "data": {
            "text/plain": [
              "600"
            ]
          },
          "metadata": {},
          "execution_count": 205
        }
      ]
    },
    {
      "cell_type": "code",
      "source": [
        "np.sum(a)"
      ],
      "metadata": {
        "colab": {
          "base_uri": "https://localhost:8080/"
        },
        "id": "UJpXyOeg3aqn",
        "outputId": "22e826d3-a3d3-4a70-878c-b13f9e00466b"
      },
      "execution_count": null,
      "outputs": [
        {
          "output_type": "execute_result",
          "data": {
            "text/plain": [
              "2100"
            ]
          },
          "metadata": {},
          "execution_count": 206
        }
      ]
    },
    {
      "cell_type": "code",
      "source": [
        "np.mean(a)"
      ],
      "metadata": {
        "colab": {
          "base_uri": "https://localhost:8080/"
        },
        "id": "RbOgtyIh3eoO",
        "outputId": "d2dda59f-f8bd-486a-a6e8-4edf8ffcd9d9"
      },
      "execution_count": null,
      "outputs": [
        {
          "output_type": "execute_result",
          "data": {
            "text/plain": [
              "350.0"
            ]
          },
          "metadata": {},
          "execution_count": 207
        }
      ]
    },
    {
      "cell_type": "code",
      "source": [
        "np.median(a)"
      ],
      "metadata": {
        "colab": {
          "base_uri": "https://localhost:8080/"
        },
        "id": "GfmnHOwD3iXm",
        "outputId": "38de75f3-bf87-4a3c-8a9d-8a85a5e0488a"
      },
      "execution_count": null,
      "outputs": [
        {
          "output_type": "execute_result",
          "data": {
            "text/plain": [
              "350.0"
            ]
          },
          "metadata": {},
          "execution_count": 208
        }
      ]
    },
    {
      "cell_type": "code",
      "source": [
        "np.var(a)"
      ],
      "metadata": {
        "colab": {
          "base_uri": "https://localhost:8080/"
        },
        "id": "RGpq2Kzt3l2R",
        "outputId": "dd7279d3-019f-4702-a097-d0c2d5eeff3c"
      },
      "execution_count": null,
      "outputs": [
        {
          "output_type": "execute_result",
          "data": {
            "text/plain": [
              "29166.666666666668"
            ]
          },
          "metadata": {},
          "execution_count": 209
        }
      ]
    },
    {
      "cell_type": "code",
      "source": [
        "np.std(a)"
      ],
      "metadata": {
        "colab": {
          "base_uri": "https://localhost:8080/"
        },
        "id": "0ae8UE313pdk",
        "outputId": "43cbabcc-53e0-4a3c-cb21-802d4ad4e323"
      },
      "execution_count": null,
      "outputs": [
        {
          "output_type": "execute_result",
          "data": {
            "text/plain": [
              "170.78251276599332"
            ]
          },
          "metadata": {},
          "execution_count": 210
        }
      ]
    }
  ]
}